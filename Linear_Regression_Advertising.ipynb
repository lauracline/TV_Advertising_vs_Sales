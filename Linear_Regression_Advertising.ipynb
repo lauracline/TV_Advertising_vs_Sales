{
  "nbformat": 4,
  "nbformat_minor": 0,
  "metadata": {
    "colab": {
      "name": "Linear Regression - Advertising",
      "provenance": [],
      "authorship_tag": "ABX9TyMRU7jVWcOsV/21vGL5D9N7",
      "include_colab_link": true
    },
    "kernelspec": {
      "name": "python3",
      "display_name": "Python 3"
    },
    "language_info": {
      "name": "python"
    }
  },
  "cells": [
    {
      "cell_type": "markdown",
      "metadata": {
        "id": "view-in-github",
        "colab_type": "text"
      },
      "source": [
        "<a href=\"https://colab.research.google.com/github/lauracline/TV_Advertising_vs_Sales/blob/master/Linear_Regression_Advertising.ipynb\" target=\"_parent\"><img src=\"https://colab.research.google.com/assets/colab-badge.svg\" alt=\"Open In Colab\"/></a>"
      ]
    },
    {
      "cell_type": "markdown",
      "metadata": {
        "id": "Z2eOrLxJCLW0"
      },
      "source": [
        "# **Linear Regression**\n",
        "\n",
        "Used to predict quanitiative (numerical) response.\n",
        "\n",
        "\n",
        "*   Can we determine if a relationship exists between predictors and response?\n",
        "*   How strong is this relationship?\n",
        "*   Which predictors are related to the response?\n",
        "*   How accurate are predictions once a model is fit?\n",
        "*   Is a linear model appropriate?\n",
        "*   Are there interaction effects?\n"
      ]
    },
    {
      "cell_type": "markdown",
      "metadata": {
        "id": "SDrR_oZ1CnNW"
      },
      "source": [
        "# **Simple Linear Regression**\n",
        "\n",
        "This simply means one predictor is linearly related to the response. \n",
        "\n",
        "$Y = \\beta_0 + \\beta_0X + \\epsilon$\n",
        "\n",
        "There are two unknown contants that we need to estimate, the intercept $\\beta_0$ and the slope $\\beta_1$. Also called coefficients or parameters. Once they are estimated, the estimated fit becomes\n",
        "\n",
        "$\\hat{Y} = \\hat{\\beta_0} + \\hat{\\beta_1}X$"
      ]
    },
    {
      "cell_type": "code",
      "metadata": {
        "id": "oyLSUWLXD-BN"
      },
      "source": [
        "import pandas as pd\n",
        "import numpy as np\n",
        "import matplotlib.pyplot as plt\n",
        "import seaborn as sns \n",
        "%matplotlib inline"
      ],
      "execution_count": 1,
      "outputs": []
    },
    {
      "cell_type": "code",
      "metadata": {
        "id": "LCXDZjnoEFlE"
      },
      "source": [
        ""
      ],
      "execution_count": null,
      "outputs": []
    }
  ]
}