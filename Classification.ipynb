{
  "nbformat": 4,
  "nbformat_minor": 0,
  "metadata": {
    "colab": {
      "name": "Classification.ipynb",
      "provenance": [],
      "collapsed_sections": [],
      "authorship_tag": "ABX9TyNK2E5TRBpVyjb5ncB37EfN",
      "include_colab_link": true
    },
    "kernelspec": {
      "name": "python3",
      "display_name": "Python 3"
    },
    "language_info": {
      "name": "python"
    }
  },
  "cells": [
    {
      "cell_type": "markdown",
      "metadata": {
        "id": "view-in-github",
        "colab_type": "text"
      },
      "source": [
        "<a href=\"https://colab.research.google.com/github/lauracline/TV_Advertising_vs_Sales/blob/master/Classification.ipynb\" target=\"_parent\"><img src=\"https://colab.research.google.com/assets/colab-badge.svg\" alt=\"Open In Colab\"/></a>"
      ]
    },
    {
      "cell_type": "markdown",
      "metadata": {
        "id": "4DqedhezuI79"
      },
      "source": [
        "# **Introduction**\n",
        "\n",
        "Previously we discussed real-valued response variables (regression problems). This chapter will discuss qualitative (categorical) variables (classification problems). Classification problems can be thought of as regression problems since most of the models return a probability of being a certain class. Since probabilities take on real values the problem can also be called regression - as in logistic regression - a machine learning technique that is used for classification but returns probabilities of real values. "
      ]
    },
    {
      "cell_type": "code",
      "metadata": {
        "id": "39SNR6b0uAIK"
      },
      "source": [
        "import pandas as pd\n",
        "import numpy as np\n",
        "import seaborn as sns \n",
        "import matplotlib.pyplot as plt\n",
        "%matplotlib inline"
      ],
      "execution_count": 1,
      "outputs": []
    },
    {
      "cell_type": "code",
      "metadata": {
        "id": "xcnsJeNuvqU9"
      },
      "source": [
        "url = \"https://raw.githubusercontent.com/emredjan/ISL-python/master/datasets/Default.csv\"\n",
        "default = pd.read_csv(url)"
      ],
      "execution_count": 4,
      "outputs": []
    },
    {
      "cell_type": "code",
      "metadata": {
        "colab": {
          "base_uri": "https://localhost:8080/",
          "height": 204
        },
        "id": "ha-U-pv1vqMW",
        "outputId": "c95dccd9-84ec-4221-91d5-0d88be92ac08"
      },
      "source": [
        "default.head()"
      ],
      "execution_count": 5,
      "outputs": [
        {
          "output_type": "execute_result",
          "data": {
            "text/html": [
              "<div>\n",
              "<style scoped>\n",
              "    .dataframe tbody tr th:only-of-type {\n",
              "        vertical-align: middle;\n",
              "    }\n",
              "\n",
              "    .dataframe tbody tr th {\n",
              "        vertical-align: top;\n",
              "    }\n",
              "\n",
              "    .dataframe thead th {\n",
              "        text-align: right;\n",
              "    }\n",
              "</style>\n",
              "<table border=\"1\" class=\"dataframe\">\n",
              "  <thead>\n",
              "    <tr style=\"text-align: right;\">\n",
              "      <th></th>\n",
              "      <th>Unnamed: 0</th>\n",
              "      <th>default</th>\n",
              "      <th>student</th>\n",
              "      <th>balance</th>\n",
              "      <th>income</th>\n",
              "    </tr>\n",
              "  </thead>\n",
              "  <tbody>\n",
              "    <tr>\n",
              "      <th>0</th>\n",
              "      <td>1</td>\n",
              "      <td>No</td>\n",
              "      <td>No</td>\n",
              "      <td>729.526495</td>\n",
              "      <td>44361.625074</td>\n",
              "    </tr>\n",
              "    <tr>\n",
              "      <th>1</th>\n",
              "      <td>2</td>\n",
              "      <td>No</td>\n",
              "      <td>Yes</td>\n",
              "      <td>817.180407</td>\n",
              "      <td>12106.134700</td>\n",
              "    </tr>\n",
              "    <tr>\n",
              "      <th>2</th>\n",
              "      <td>3</td>\n",
              "      <td>No</td>\n",
              "      <td>No</td>\n",
              "      <td>1073.549164</td>\n",
              "      <td>31767.138947</td>\n",
              "    </tr>\n",
              "    <tr>\n",
              "      <th>3</th>\n",
              "      <td>4</td>\n",
              "      <td>No</td>\n",
              "      <td>No</td>\n",
              "      <td>529.250605</td>\n",
              "      <td>35704.493935</td>\n",
              "    </tr>\n",
              "    <tr>\n",
              "      <th>4</th>\n",
              "      <td>5</td>\n",
              "      <td>No</td>\n",
              "      <td>No</td>\n",
              "      <td>785.655883</td>\n",
              "      <td>38463.495879</td>\n",
              "    </tr>\n",
              "  </tbody>\n",
              "</table>\n",
              "</div>"
            ],
            "text/plain": [
              "   Unnamed: 0 default student      balance        income\n",
              "0           1      No      No   729.526495  44361.625074\n",
              "1           2      No     Yes   817.180407  12106.134700\n",
              "2           3      No      No  1073.549164  31767.138947\n",
              "3           4      No      No   529.250605  35704.493935\n",
              "4           5      No      No   785.655883  38463.495879"
            ]
          },
          "metadata": {
            "tags": []
          },
          "execution_count": 5
        }
      ]
    },
    {
      "cell_type": "code",
      "metadata": {
        "colab": {
          "base_uri": "https://localhost:8080/",
          "height": 458
        },
        "id": "PE9NeEFYwx2S",
        "outputId": "f098c553-d979-4e40-c8bb-3aa26bf1d543"
      },
      "source": [
        "sns.lmplot('balance', 'income', data=default.sample(1000), hue='default', fit_reg=False)\n",
        "plt.ylim([0,70000])\n",
        "plt.xlim([-100,2500])"
      ],
      "execution_count": 6,
      "outputs": [
        {
          "output_type": "stream",
          "text": [
            "/usr/local/lib/python3.7/dist-packages/seaborn/_decorators.py:43: FutureWarning: Pass the following variables as keyword args: x, y. From version 0.12, the only valid positional argument will be `data`, and passing other arguments without an explicit keyword will result in an error or misinterpretation.\n",
            "  FutureWarning\n"
          ],
          "name": "stderr"
        },
        {
          "output_type": "execute_result",
          "data": {
            "text/plain": [
              "(-100.0, 2500.0)"
            ]
          },
          "metadata": {
            "tags": []
          },
          "execution_count": 6
        },
        {
          "output_type": "display_data",
          "data": {
            "image/png": "[encoded data removed]",
            "text/plain": [
              "<Figure size 412x360 with 1 Axes>"
            ]
          },
          "metadata": {
            "tags": [],
            "needs_background": "light"
          }
        }
      ]
    },
    {
      "cell_type": "code",
      "metadata": {
        "colab": {
          "base_uri": "https://localhost:8080/",
          "height": 350
        },
        "id": "YgZhyCN8xCWQ",
        "outputId": "b7f89dfc-4ca7-4fe3-ac3c-29ce5597c38a"
      },
      "source": [
        "#evidence that\n",
        "sns.boxplot('student', 'balance', data=default, hue=\"default\")"
      ],
      "execution_count": 7,
      "outputs": [
        {
          "output_type": "stream",
          "text": [
            "/usr/local/lib/python3.7/dist-packages/seaborn/_decorators.py:43: FutureWarning: Pass the following variables as keyword args: x, y. From version 0.12, the only valid positional argument will be `data`, and passing other arguments without an explicit keyword will result in an error or misinterpretation.\n",
            "  FutureWarning\n"
          ],
          "name": "stderr"
        },
        {
          "output_type": "execute_result",
          "data": {
            "text/plain": [
              "<matplotlib.axes._subplots.AxesSubplot at 0x7fc1e9f1d2d0>"
            ]
          },
          "metadata": {
            "tags": []
          },
          "execution_count": 7
        },
        {
          "output_type": "display_data",
          "data": {
            "image/png": "[encoded data removed]",
            "text/plain": [
              "<Figure size 432x288 with 1 Axes>"
            ]
          },
          "metadata": {
            "tags": [],
            "needs_background": "light"
          }
        }
      ]
    },
    {
      "cell_type": "markdown",
      "metadata": {
        "id": "qx7bfhLuxQym"
      },
      "source": [
        "## **Why Not Linear Regression**\n",
        "\n",
        "Though it is always possible to use numeric values for the categories of the response, there is generally no natural way to order and seperate the values in a way that makes sense. Only in a two-category problem will the ordering make sense but even then linear regression will produce probability estimates outside of [0,1]."
      ]
    },
    {
      "cell_type": "code",
      "metadata": {
        "id": "_ogi-42Dxkoc"
      },
      "source": [
        "import statsmodels.formula.api as smf"
      ],
      "execution_count": 8,
      "outputs": []
    },
    {
      "cell_type": "code",
      "metadata": {
        "id": "SY44MaQsxoOh"
      },
      "source": [
        "# Make column for Yes default\n",
        "default['Yes'] = (default['default'] == 'Yes').astype(int)"
      ],
      "execution_count": 9,
      "outputs": []
    },
    {
      "cell_type": "code",
      "metadata": {
        "colab": {
          "base_uri": "https://localhost:8080/",
          "height": 350
        },
        "id": "YvrNpqLfxv5g",
        "outputId": "3f63c53f-4151-4a38-9fd7-61be2d1fe2cc"
      },
      "source": [
        "# Linear regression model for default\n",
        "# Not idea and could be made better by simply making all probabilities\n",
        "# > 1 equal to 1\n",
        "sns.regplot('balance', 'Yes', data=default)"
      ],
      "execution_count": 10,
      "outputs": [
        {
          "output_type": "stream",
          "text": [
            "/usr/local/lib/python3.7/dist-packages/seaborn/_decorators.py:43: FutureWarning: Pass the following variables as keyword args: x, y. From version 0.12, the only valid positional argument will be `data`, and passing other arguments without an explicit keyword will result in an error or misinterpretation.\n",
            "  FutureWarning\n"
          ],
          "name": "stderr"
        },
        {
          "output_type": "execute_result",
          "data": {
            "text/plain": [
              "<matplotlib.axes._subplots.AxesSubplot at 0x7fc1dd7d72d0>"
            ]
          },
          "metadata": {
            "tags": []
          },
          "execution_count": 10
        },
        {
          "output_type": "display_data",
          "data": {
            "image/png": "[encoded data removed]",
            "text/plain": [
              "<Figure size 432x288 with 1 Axes>"
            ]
          },
          "metadata": {
            "tags": [],
            "needs_background": "light"
          }
        }
      ]
    },
    {
      "cell_type": "markdown",
      "metadata": {
        "id": "3pZv-DFRx7yo"
      },
      "source": [
        "# **Logistic Regression**"
      ]
    },
    {
      "cell_type": "markdown",
      "metadata": {
        "id": "G1jxmsJgx-tL"
      },
      "source": [
        "Find function that always outputs number between 0 and 1. Many functions satisfy this condition. For logistic regression the logistic function is used. \n",
        "\n",
        "$y = \\frac{e^{\\beta_0 + \\beta_1X}}{1 + e^{\\beta_0 + \\beta_1X}}$\n",
        "\n",
        "Many times you will see this as the sigmoid function in a simpler format\n",
        "\n",
        "$y = \\frac{1}{1 + e^{-1}}$\n",
        "\n",
        "Where *t* is the normal linear model given some value X since it will always be between 0 and 1. Some more algebra shows that\n",
        "\n",
        "$log\\frac{p(X)}{1 - p(X)} = \\beta_0 + \\beta_1X$\n",
        "\n",
        "Where *y* has been replaced by *p(X)*, the probability of X. The expression $\\frac{p(X)}{1 - p(X)}$ is known as the 'odds'. So for instance if you were gambling and think that the Liberals will get a Majority 80% of the time. The odds would be .8/.2 = 4 or said \"4 to 1\". For every 4 times the Liberals get the Majority, the Conservatives will get the majority once. \n",
        "\n",
        "What logistic regression is saying, that the log odds are modeled by a linear model which can be solved by linear regression. That has the literal meaning of - given a one unit increase in one of the variables (say $X_1$), a $\\beta_1$ increase will occur in the log-odds. Or equivalently, the odds will be multiplied by $e^{\\beta_1}$.\n",
        "\n",
        "In our election example, $X_1$ could be the percentage of voters under 30 and $\\beta_1$ could be .5. That would mean if $X_1$ were to increase by 1 percentage point, the Liberals log odds would increase by .5. In our example above, the Liberal's log odds would go from 4 to 4.5 and their probability of winning would go from 80% to 4.5 / 5.5 or 82%. \n",
        "\n",
        "There is no straight line relationship between the probability of a certain class and X in logisitc regression because of the need to have probabilities between 0 and 1. "
      ]
    },
    {
      "cell_type": "markdown",
      "metadata": {
        "id": "YJwaegV70GPC"
      },
      "source": [
        "## **Estimating Coefficients Through Maximum Likelihood**\n",
        "\n",
        "In linear regression, the model coefficients were found by minimizing the squared residuals. In logistic regression, we maximize the probabiltiies of all points by a method called maximum likelihood. Maximum likelihood multiplies the model probability for each observation together and chooses parameters that maximize this number. The log likelihood is actually used as numerical underflow will be a problem for most problems with a non-trivial amount of data. "
      ]
    },
    {
      "cell_type": "code",
      "metadata": {
        "colab": {
          "base_uri": "https://localhost:8080/"
        },
        "id": "uS8Ep6wy0jSa",
        "outputId": "6815f0e6-d0f8-4774-d0dd-c72f9dd7e943"
      },
      "source": [
        "# Think about doing a maximum likelihood example using 4 coin tosses \n",
        "# and 3 heads. Start with .5 then choose .6 and see the differences\n",
        "\n",
        "results = smf.logit('Yes ~ balance', data=default).fit()"
      ],
      "execution_count": 11,
      "outputs": [
        {
          "output_type": "stream",
          "text": [
            "Optimization terminated successfully.\n",
            "         Current function value: 0.079823\n",
            "         Iterations 10\n"
          ],
          "name": "stdout"
        }
      ]
    },
    {
      "cell_type": "code",
      "metadata": {
        "colab": {
          "base_uri": "https://localhost:8080/",
          "height": 333
        },
        "id": "HcelnRFa0vEr",
        "outputId": "29f817f8-7001-4bf8-8a3a-c1d5ec099c5d"
      },
      "source": [
        "results.summary()"
      ],
      "execution_count": 12,
      "outputs": [
        {
          "output_type": "execute_result",
          "data": {
            "text/html": [
              "<table class=\"simpletable\">\n",
              "<caption>Logit Regression Results</caption>\n",
              "<tr>\n",
              "  <th>Dep. Variable:</th>          <td>Yes</td>       <th>  No. Observations:  </th>   <td> 10000</td>  \n",
              "</tr>\n",
              "<tr>\n",
              "  <th>Model:</th>                 <td>Logit</td>      <th>  Df Residuals:      </th>   <td>  9998</td>  \n",
              "</tr>\n",
              "<tr>\n",
              "  <th>Method:</th>                 <td>MLE</td>       <th>  Df Model:          </th>   <td>     1</td>  \n",
              "</tr>\n",
              "<tr>\n",
              "  <th>Date:</th>            <td>Thu, 12 Aug 2021</td> <th>  Pseudo R-squ.:     </th>   <td>0.4534</td>  \n",
              "</tr>\n",
              "<tr>\n",
              "  <th>Time:</th>                <td>19:24:49</td>     <th>  Log-Likelihood:    </th>  <td> -798.23</td> \n",
              "</tr>\n",
              "<tr>\n",
              "  <th>converged:</th>             <td>True</td>       <th>  LL-Null:           </th>  <td> -1460.3</td> \n",
              "</tr>\n",
              "<tr>\n",
              "  <th>Covariance Type:</th>     <td>nonrobust</td>    <th>  LLR p-value:       </th> <td>6.233e-290</td>\n",
              "</tr>\n",
              "</table>\n",
              "<table class=\"simpletable\">\n",
              "<tr>\n",
              "      <td></td>         <th>coef</th>     <th>std err</th>      <th>z</th>      <th>P>|z|</th>  <th>[0.025</th>    <th>0.975]</th>  \n",
              "</tr>\n",
              "<tr>\n",
              "  <th>Intercept</th> <td>  -10.6513</td> <td>    0.361</td> <td>  -29.491</td> <td> 0.000</td> <td>  -11.359</td> <td>   -9.943</td>\n",
              "</tr>\n",
              "<tr>\n",
              "  <th>balance</th>   <td>    0.0055</td> <td>    0.000</td> <td>   24.952</td> <td> 0.000</td> <td>    0.005</td> <td>    0.006</td>\n",
              "</tr>\n",
              "</table><br/><br/>Possibly complete quasi-separation: A fraction 0.13 of observations can be<br/>perfectly predicted. This might indicate that there is complete<br/>quasi-separation. In this case some parameters will not be identified."
            ],
            "text/plain": [
              "<class 'statsmodels.iolib.summary.Summary'>\n",
              "\"\"\"\n",
              "                           Logit Regression Results                           \n",
              "==============================================================================\n",
              "Dep. Variable:                    Yes   No. Observations:                10000\n",
              "Model:                          Logit   Df Residuals:                     9998\n",
              "Method:                           MLE   Df Model:                            1\n",
              "Date:                Thu, 12 Aug 2021   Pseudo R-squ.:                  0.4534\n",
              "Time:                        19:24:49   Log-Likelihood:                -798.23\n",
              "converged:                       True   LL-Null:                       -1460.3\n",
              "Covariance Type:            nonrobust   LLR p-value:                6.233e-290\n",
              "==============================================================================\n",
              "                 coef    std err          z      P>|z|      [0.025      0.975]\n",
              "------------------------------------------------------------------------------\n",
              "Intercept    -10.6513      0.361    -29.491      0.000     -11.359      -9.943\n",
              "balance        0.0055      0.000     24.952      0.000       0.005       0.006\n",
              "==============================================================================\n",
              "\n",
              "Possibly complete quasi-separation: A fraction 0.13 of observations can be\n",
              "perfectly predicted. This might indicate that there is complete\n",
              "quasi-separation. In this case some parameters will not be identified.\n",
              "\"\"\""
            ]
          },
          "metadata": {
            "tags": []
          },
          "execution_count": 12
        }
      ]
    },
    {
      "cell_type": "code",
      "metadata": {
        "colab": {
          "base_uri": "https://localhost:8080/",
          "height": 454
        },
        "id": "TqCSPcQU0xr9",
        "outputId": "a260e292-2076-4f91-f7e0-56a8cae0c613"
      },
      "source": [
        "# Looks quite a bit different than the linear regression model\n",
        "sns.lmplot('balance', 'Yes', data=default, logistic=True)"
      ],
      "execution_count": 13,
      "outputs": [
        {
          "output_type": "stream",
          "text": [
            "/usr/local/lib/python3.7/dist-packages/seaborn/_decorators.py:43: FutureWarning: Pass the following variables as keyword args: x, y. From version 0.12, the only valid positional argument will be `data`, and passing other arguments without an explicit keyword will result in an error or misinterpretation.\n",
            "  FutureWarning\n"
          ],
          "name": "stderr"
        },
        {
          "output_type": "execute_result",
          "data": {
            "text/plain": [
              "<seaborn.axisgrid.FacetGrid at 0x7fc1f75b3350>"
            ]
          },
          "metadata": {
            "tags": []
          },
          "execution_count": 13
        },
        {
          "output_type": "display_data",
          "data": {
            "image/png": "[encoded data removed]",
            "text/plain": [
              "<Figure size 360x360 with 1 Axes>"
            ]
          },
          "metadata": {
            "tags": [],
            "needs_background": "light"
          }
        }
      ]
    },
    {
      "cell_type": "markdown",
      "metadata": {
        "id": "j9hC9gpY07fu"
      },
      "source": [
        "For every one dollar increase in balance the log odds increases by 0.0555. The log odds when there is no balance is -10.6. "
      ]
    },
    {
      "cell_type": "code",
      "metadata": {
        "colab": {
          "base_uri": "https://localhost:8080/"
        },
        "id": "OfHKnW7l1Dtm",
        "outputId": "c785b8a4-72f6-4aae-fac3-6c9c8dea7b3d"
      },
      "source": [
        "# p / (1 - p) = \n",
        "odds = np.exp(-10.65)\n",
        "odds"
      ],
      "execution_count": 14,
      "outputs": [
        {
          "output_type": "execute_result",
          "data": {
            "text/plain": [
              "2.3700841597751968e-05"
            ]
          },
          "metadata": {
            "tags": []
          },
          "execution_count": 14
        }
      ]
    },
    {
      "cell_type": "code",
      "metadata": {
        "id": "Zy2hk3Hn1KN0"
      },
      "source": [
        "# (1 - p) / p = 1 / odds \n",
        "one_over_odds = 1 / odds"
      ],
      "execution_count": 16,
      "outputs": []
    },
    {
      "cell_type": "code",
      "metadata": {
        "id": "0gRmj2nG1Nwh"
      },
      "source": [
        "# 1/p = one_over_odds + 1 \n",
        "one_over_p = one_over_odds + 1"
      ],
      "execution_count": 18,
      "outputs": []
    },
    {
      "cell_type": "code",
      "metadata": {
        "id": "wa5EK5of1b4m"
      },
      "source": [
        "# p = 1 / one_over_p"
      ],
      "execution_count": null,
      "outputs": []
    },
    {
      "cell_type": "code",
      "metadata": {
        "colab": {
          "base_uri": "https://localhost:8080/"
        },
        "id": "jwKLf-Jj1en7",
        "outputId": "d15193a4-6bef-4a94-8838-f82b9d2a75e0"
      },
      "source": [
        "# Since p is so close to 0, p / (1 - p) is nearly equivalent to p\n",
        "p = 1 / one_over_p\n",
        "p"
      ],
      "execution_count": 19,
      "outputs": [
        {
          "output_type": "execute_result",
          "data": {
            "text/plain": [
              "2.370027988117268e-05"
            ]
          },
          "metadata": {
            "tags": []
          },
          "execution_count": 19
        }
      ]
    },
    {
      "cell_type": "markdown",
      "metadata": {
        "id": "XMq47uYD1lgx"
      },
      "source": [
        "### **Scikit-learn for Easier Prediction** "
      ]
    },
    {
      "cell_type": "code",
      "metadata": {
        "id": "BKtaP8dA1pe5"
      },
      "source": [
        "from sklearn.linear_model import LogisticRegression"
      ],
      "execution_count": 25,
      "outputs": []
    },
    {
      "cell_type": "code",
      "metadata": {
        "id": "oSxIUt5h1uqm"
      },
      "source": [
        "# This actually uses regularization by default which will be \n",
        "# covered in later chapters\n",
        "lr = LogisticRegression()"
      ],
      "execution_count": 26,
      "outputs": []
    },
    {
      "cell_type": "code",
      "metadata": {
        "id": "GMeKf58s126C"
      },
      "source": [
        "X = np.column_stack((np.ones(len(default)), default['balance']))"
      ],
      "execution_count": 27,
      "outputs": []
    },
    {
      "cell_type": "code",
      "metadata": {
        "colab": {
          "base_uri": "https://localhost:8080/"
        },
        "id": "evl5Nh7h18EH",
        "outputId": "28a20e5b-06e5-4d9d-88a2-2d0328a6325a"
      },
      "source": [
        "lr.fit(X, default['Yes'])"
      ],
      "execution_count": 28,
      "outputs": [
        {
          "output_type": "execute_result",
          "data": {
            "text/plain": [
              "LogisticRegression(C=1.0, class_weight=None, dual=False, fit_intercept=True,\n",
              "                   intercept_scaling=1, l1_ratio=None, max_iter=100,\n",
              "                   multi_class='auto', n_jobs=None, penalty='l2',\n",
              "                   random_state=None, solver='lbfgs', tol=0.0001, verbose=0,\n",
              "                   warm_start=False)"
            ]
          },
          "metadata": {
            "tags": []
          },
          "execution_count": 28
        }
      ]
    },
    {
      "cell_type": "code",
      "metadata": {
        "colab": {
          "base_uri": "https://localhost:8080/"
        },
        "id": "NtDVQdGE2Nit",
        "outputId": "46f1ec19-d091-41f7-dec3-6bb9ff852534"
      },
      "source": [
        "# Model coefficients are different by B1 is very similiar\n",
        "lr.coef_"
      ],
      "execution_count": 29,
      "outputs": [
        {
          "output_type": "execute_result",
          "data": {
            "text/plain": [
              "array([[-5.16481986,  0.00530575]])"
            ]
          },
          "metadata": {
            "tags": []
          },
          "execution_count": 29
        }
      ]
    },
    {
      "cell_type": "code",
      "metadata": {
        "colab": {
          "base_uri": "https://localhost:8080/"
        },
        "id": "ZB6wGL2r2SCY",
        "outputId": "76005156-3b3a-4ad1-89d1-8de6d0114915"
      },
      "source": [
        "# Predict 1000 dollar balance default\n",
        "lr.predict_proba([[1,1000]]) # 99 percent chance no default"
      ],
      "execution_count": 30,
      "outputs": [
        {
          "output_type": "execute_result",
          "data": {
            "text/plain": [
              "array([[0.99346413, 0.00653587]])"
            ]
          },
          "metadata": {
            "tags": []
          },
          "execution_count": 30
        }
      ]
    },
    {
      "cell_type": "code",
      "metadata": {
        "colab": {
          "base_uri": "https://localhost:8080/"
        },
        "id": "6MufUutz2dPB",
        "outputId": "aacedd51-4dab-4c81-a1c5-8be161fe2891"
      },
      "source": [
        "# Predict 2000 dollar balance default\n",
        "lr.predict_proba([[1,2000]]) # 57 percent chance default"
      ],
      "execution_count": 31,
      "outputs": [
        {
          "output_type": "execute_result",
          "data": {
            "text/plain": [
              "array([[0.42999758, 0.57000242]])"
            ]
          },
          "metadata": {
            "tags": []
          },
          "execution_count": 31
        }
      ]
    },
    {
      "cell_type": "code",
      "metadata": {
        "colab": {
          "base_uri": "https://localhost:8080/"
        },
        "id": "z2BS9PFG2s5r",
        "outputId": "d27fc5b9-fb5b-4652-c31d-89d85fb8cf8f"
      },
      "source": [
        "# Predict 3000 dollar balance default\n",
        "lr.predict_proba([[1,3000]]) # >99 percent chance default "
      ],
      "execution_count": 32,
      "outputs": [
        {
          "output_type": "execute_result",
          "data": {
            "text/plain": [
              "array([[0.00372998, 0.99627002]])"
            ]
          },
          "metadata": {
            "tags": []
          },
          "execution_count": 32
        }
      ]
    },
    {
      "cell_type": "markdown",
      "metadata": {
        "id": "qaX9LTG722px"
      },
      "source": [
        "## **Multiple Linear Regression** \n",
        "\n",
        "More than one predictor"
      ]
    },
    {
      "cell_type": "code",
      "metadata": {
        "colab": {
          "base_uri": "https://localhost:8080/"
        },
        "id": "THx1ovZf28u-",
        "outputId": "fb82acdf-3043-481f-a3a9-8592aeaf86bf"
      },
      "source": [
        "results = smf.logit('Yes ~ balance + student', data=default).fit()"
      ],
      "execution_count": 33,
      "outputs": [
        {
          "output_type": "stream",
          "text": [
            "Optimization terminated successfully.\n",
            "         Current function value: 0.078584\n",
            "         Iterations 10\n"
          ],
          "name": "stdout"
        }
      ]
    },
    {
      "cell_type": "code",
      "metadata": {
        "colab": {
          "base_uri": "https://localhost:8080/",
          "height": 354
        },
        "id": "zMZ6eLIX3ClY",
        "outputId": "7fdb1628-36c9-4d8a-fd6a-9b86adecd46e"
      },
      "source": [
        "results.summary()"
      ],
      "execution_count": 35,
      "outputs": [
        {
          "output_type": "execute_result",
          "data": {
            "text/html": [
              "<table class=\"simpletable\">\n",
              "<caption>Logit Regression Results</caption>\n",
              "<tr>\n",
              "  <th>Dep. Variable:</th>          <td>Yes</td>       <th>  No. Observations:  </th>   <td> 10000</td>  \n",
              "</tr>\n",
              "<tr>\n",
              "  <th>Model:</th>                 <td>Logit</td>      <th>  Df Residuals:      </th>   <td>  9997</td>  \n",
              "</tr>\n",
              "<tr>\n",
              "  <th>Method:</th>                 <td>MLE</td>       <th>  Df Model:          </th>   <td>     2</td>  \n",
              "</tr>\n",
              "<tr>\n",
              "  <th>Date:</th>            <td>Thu, 12 Aug 2021</td> <th>  Pseudo R-squ.:     </th>   <td>0.4619</td>  \n",
              "</tr>\n",
              "<tr>\n",
              "  <th>Time:</th>                <td>19:34:57</td>     <th>  Log-Likelihood:    </th>  <td> -785.84</td> \n",
              "</tr>\n",
              "<tr>\n",
              "  <th>converged:</th>             <td>True</td>       <th>  LL-Null:           </th>  <td> -1460.3</td> \n",
              "</tr>\n",
              "<tr>\n",
              "  <th>Covariance Type:</th>     <td>nonrobust</td>    <th>  LLR p-value:       </th> <td>1.189e-293</td>\n",
              "</tr>\n",
              "</table>\n",
              "<table class=\"simpletable\">\n",
              "<tr>\n",
              "         <td></td>           <th>coef</th>     <th>std err</th>      <th>z</th>      <th>P>|z|</th>  <th>[0.025</th>    <th>0.975]</th>  \n",
              "</tr>\n",
              "<tr>\n",
              "  <th>Intercept</th>      <td>  -10.7495</td> <td>    0.369</td> <td>  -29.115</td> <td> 0.000</td> <td>  -11.473</td> <td>  -10.026</td>\n",
              "</tr>\n",
              "<tr>\n",
              "  <th>student[T.Yes]</th> <td>   -0.7149</td> <td>    0.148</td> <td>   -4.846</td> <td> 0.000</td> <td>   -1.004</td> <td>   -0.426</td>\n",
              "</tr>\n",
              "<tr>\n",
              "  <th>balance</th>        <td>    0.0057</td> <td>    0.000</td> <td>   24.748</td> <td> 0.000</td> <td>    0.005</td> <td>    0.006</td>\n",
              "</tr>\n",
              "</table><br/><br/>Possibly complete quasi-separation: A fraction 0.15 of observations can be<br/>perfectly predicted. This might indicate that there is complete<br/>quasi-separation. In this case some parameters will not be identified."
            ],
            "text/plain": [
              "<class 'statsmodels.iolib.summary.Summary'>\n",
              "\"\"\"\n",
              "                           Logit Regression Results                           \n",
              "==============================================================================\n",
              "Dep. Variable:                    Yes   No. Observations:                10000\n",
              "Model:                          Logit   Df Residuals:                     9997\n",
              "Method:                           MLE   Df Model:                            2\n",
              "Date:                Thu, 12 Aug 2021   Pseudo R-squ.:                  0.4619\n",
              "Time:                        19:34:57   Log-Likelihood:                -785.84\n",
              "converged:                       True   LL-Null:                       -1460.3\n",
              "Covariance Type:            nonrobust   LLR p-value:                1.189e-293\n",
              "==================================================================================\n",
              "                     coef    std err          z      P>|z|      [0.025      0.975]\n",
              "----------------------------------------------------------------------------------\n",
              "Intercept        -10.7495      0.369    -29.115      0.000     -11.473     -10.026\n",
              "student[T.Yes]    -0.7149      0.148     -4.846      0.000      -1.004      -0.426\n",
              "balance            0.0057      0.000     24.748      0.000       0.005       0.006\n",
              "==================================================================================\n",
              "\n",
              "Possibly complete quasi-separation: A fraction 0.15 of observations can be\n",
              "perfectly predicted. This might indicate that there is complete\n",
              "quasi-separation. In this case some parameters will not be identified.\n",
              "\"\"\""
            ]
          },
          "metadata": {
            "tags": []
          },
          "execution_count": 35
        }
      ]
    },
    {
      "cell_type": "markdown",
      "metadata": {
        "id": "nQHHMlSv3JEp"
      },
      "source": [
        "### **Simpsons Paradox**"
      ]
    },
    {
      "cell_type": "code",
      "metadata": {
        "colab": {
          "base_uri": "https://localhost:8080/",
          "height": 299
        },
        "id": "FKQxYXjz3NNK",
        "outputId": "67baf9a3-d17a-4705-ad89-b01513a18c48"
      },
      "source": [
        "results = smf.logit('Yes ~ student', data=default).fit()\n",
        "results.summary()"
      ],
      "execution_count": 36,
      "outputs": [
        {
          "output_type": "stream",
          "text": [
            "Optimization terminated successfully.\n",
            "         Current function value: 0.145434\n",
            "         Iterations 7\n"
          ],
          "name": "stdout"
        },
        {
          "output_type": "execute_result",
          "data": {
            "text/html": [
              "<table class=\"simpletable\">\n",
              "<caption>Logit Regression Results</caption>\n",
              "<tr>\n",
              "  <th>Dep. Variable:</th>          <td>Yes</td>       <th>  No. Observations:  </th>  <td> 10000</td>  \n",
              "</tr>\n",
              "<tr>\n",
              "  <th>Model:</th>                 <td>Logit</td>      <th>  Df Residuals:      </th>  <td>  9998</td>  \n",
              "</tr>\n",
              "<tr>\n",
              "  <th>Method:</th>                 <td>MLE</td>       <th>  Df Model:          </th>  <td>     1</td>  \n",
              "</tr>\n",
              "<tr>\n",
              "  <th>Date:</th>            <td>Thu, 12 Aug 2021</td> <th>  Pseudo R-squ.:     </th> <td>0.004097</td> \n",
              "</tr>\n",
              "<tr>\n",
              "  <th>Time:</th>                <td>19:35:55</td>     <th>  Log-Likelihood:    </th> <td> -1454.3</td> \n",
              "</tr>\n",
              "<tr>\n",
              "  <th>converged:</th>             <td>True</td>       <th>  LL-Null:           </th> <td> -1460.3</td> \n",
              "</tr>\n",
              "<tr>\n",
              "  <th>Covariance Type:</th>     <td>nonrobust</td>    <th>  LLR p-value:       </th> <td>0.0005416</td>\n",
              "</tr>\n",
              "</table>\n",
              "<table class=\"simpletable\">\n",
              "<tr>\n",
              "         <td></td>           <th>coef</th>     <th>std err</th>      <th>z</th>      <th>P>|z|</th>  <th>[0.025</th>    <th>0.975]</th>  \n",
              "</tr>\n",
              "<tr>\n",
              "  <th>Intercept</th>      <td>   -3.5041</td> <td>    0.071</td> <td>  -49.554</td> <td> 0.000</td> <td>   -3.643</td> <td>   -3.366</td>\n",
              "</tr>\n",
              "<tr>\n",
              "  <th>student[T.Yes]</th> <td>    0.4049</td> <td>    0.115</td> <td>    3.520</td> <td> 0.000</td> <td>    0.179</td> <td>    0.630</td>\n",
              "</tr>\n",
              "</table>"
            ],
            "text/plain": [
              "<class 'statsmodels.iolib.summary.Summary'>\n",
              "\"\"\"\n",
              "                           Logit Regression Results                           \n",
              "==============================================================================\n",
              "Dep. Variable:                    Yes   No. Observations:                10000\n",
              "Model:                          Logit   Df Residuals:                     9998\n",
              "Method:                           MLE   Df Model:                            1\n",
              "Date:                Thu, 12 Aug 2021   Pseudo R-squ.:                0.004097\n",
              "Time:                        19:35:55   Log-Likelihood:                -1454.3\n",
              "converged:                       True   LL-Null:                       -1460.3\n",
              "Covariance Type:            nonrobust   LLR p-value:                 0.0005416\n",
              "==================================================================================\n",
              "                     coef    std err          z      P>|z|      [0.025      0.975]\n",
              "----------------------------------------------------------------------------------\n",
              "Intercept         -3.5041      0.071    -49.554      0.000      -3.643      -3.366\n",
              "student[T.Yes]     0.4049      0.115      3.520      0.000       0.179       0.630\n",
              "==================================================================================\n",
              "\"\"\""
            ]
          },
          "metadata": {
            "tags": []
          },
          "execution_count": 36
        }
      ]
    },
    {
      "cell_type": "markdown",
      "metadata": {
        "id": "3DXsrSfR3Xct"
      },
      "source": [
        "The first model above with both balance and student show a negative relationship between student and default - meaning that being a student decreases the likelihood of defaulting. The second model shows the opposite, that being a student increases the chance of defaulting. This can be explained by the fact that students have more debt on average but compared with those with the same amount of debt they are less likely to default. "
      ]
    },
    {
      "cell_type": "markdown",
      "metadata": {
        "id": "doKpE0Ju3o3T"
      },
      "source": [
        "## **Multiclass Logistic Regression**\n",
        "\n",
        "A simple method when you have k classes where k > 2 is to create k-1 independent logisitc regression classifiers by choosing the response variable to be binary, 1 when in the current class else 0. "
      ]
    },
    {
      "cell_type": "markdown",
      "metadata": {
        "id": "NDkxaEZi32kU"
      },
      "source": [
        "# **Linear Discriminant Analysis** \n",
        "\n",
        "Not to be confused with latent dirichlet allocation. Used for multiclass classification problems. LDA assumes all predictor variables come from a gaussian distribution and estimates the mean and variance for each predictor variable where the variance is the same across each predictor variable. It also estimates the prior probability simply by using the proportion of classes in the training set. \n",
        "\n",
        "Bayes rule is used to compute a probability for each class. When there is more than one predictor, a multivariate gaussian is used. Correlations between each predictor must be estimated (the covariance matrix) as they are a parameter to the multivariate gaussian."
      ]
    },
    {
      "cell_type": "markdown",
      "metadata": {
        "id": "LgBi2Jz44S8q"
      },
      "source": [
        "## **Stock Market Prediction Lab**"
      ]
    },
    {
      "cell_type": "code",
      "metadata": {
        "colab": {
          "base_uri": "https://localhost:8080/",
          "height": 204
        },
        "id": "bF61cI_V4WT5",
        "outputId": "f79ca22b-0d91-40fc-8ae9-5e31c6e487e9"
      },
      "source": [
        "url = \"https://raw.githubusercontent.com/emredjan/ISL-python/master/datasets/Smarket.csv\"\n",
        "smarket = pd.read_csv(url)\n",
        "smarket.head()"
      ],
      "execution_count": 37,
      "outputs": [
        {
          "output_type": "execute_result",
          "data": {
            "text/html": [
              "<div>\n",
              "<style scoped>\n",
              "    .dataframe tbody tr th:only-of-type {\n",
              "        vertical-align: middle;\n",
              "    }\n",
              "\n",
              "    .dataframe tbody tr th {\n",
              "        vertical-align: top;\n",
              "    }\n",
              "\n",
              "    .dataframe thead th {\n",
              "        text-align: right;\n",
              "    }\n",
              "</style>\n",
              "<table border=\"1\" class=\"dataframe\">\n",
              "  <thead>\n",
              "    <tr style=\"text-align: right;\">\n",
              "      <th></th>\n",
              "      <th>Unnamed: 0</th>\n",
              "      <th>Year</th>\n",
              "      <th>Lag1</th>\n",
              "      <th>Lag2</th>\n",
              "      <th>Lag3</th>\n",
              "      <th>Lag4</th>\n",
              "      <th>Lag5</th>\n",
              "      <th>Volume</th>\n",
              "      <th>Today</th>\n",
              "      <th>Direction</th>\n",
              "    </tr>\n",
              "  </thead>\n",
              "  <tbody>\n",
              "    <tr>\n",
              "      <th>0</th>\n",
              "      <td>1</td>\n",
              "      <td>2001</td>\n",
              "      <td>0.381</td>\n",
              "      <td>-0.192</td>\n",
              "      <td>-2.624</td>\n",
              "      <td>-1.055</td>\n",
              "      <td>5.010</td>\n",
              "      <td>1.1913</td>\n",
              "      <td>0.959</td>\n",
              "      <td>Up</td>\n",
              "    </tr>\n",
              "    <tr>\n",
              "      <th>1</th>\n",
              "      <td>2</td>\n",
              "      <td>2001</td>\n",
              "      <td>0.959</td>\n",
              "      <td>0.381</td>\n",
              "      <td>-0.192</td>\n",
              "      <td>-2.624</td>\n",
              "      <td>-1.055</td>\n",
              "      <td>1.2965</td>\n",
              "      <td>1.032</td>\n",
              "      <td>Up</td>\n",
              "    </tr>\n",
              "    <tr>\n",
              "      <th>2</th>\n",
              "      <td>3</td>\n",
              "      <td>2001</td>\n",
              "      <td>1.032</td>\n",
              "      <td>0.959</td>\n",
              "      <td>0.381</td>\n",
              "      <td>-0.192</td>\n",
              "      <td>-2.624</td>\n",
              "      <td>1.4112</td>\n",
              "      <td>-0.623</td>\n",
              "      <td>Down</td>\n",
              "    </tr>\n",
              "    <tr>\n",
              "      <th>3</th>\n",
              "      <td>4</td>\n",
              "      <td>2001</td>\n",
              "      <td>-0.623</td>\n",
              "      <td>1.032</td>\n",
              "      <td>0.959</td>\n",
              "      <td>0.381</td>\n",
              "      <td>-0.192</td>\n",
              "      <td>1.2760</td>\n",
              "      <td>0.614</td>\n",
              "      <td>Up</td>\n",
              "    </tr>\n",
              "    <tr>\n",
              "      <th>4</th>\n",
              "      <td>5</td>\n",
              "      <td>2001</td>\n",
              "      <td>0.614</td>\n",
              "      <td>-0.623</td>\n",
              "      <td>1.032</td>\n",
              "      <td>0.959</td>\n",
              "      <td>0.381</td>\n",
              "      <td>1.2057</td>\n",
              "      <td>0.213</td>\n",
              "      <td>Up</td>\n",
              "    </tr>\n",
              "  </tbody>\n",
              "</table>\n",
              "</div>"
            ],
            "text/plain": [
              "   Unnamed: 0  Year   Lag1   Lag2   Lag3   Lag4   Lag5  Volume  Today Direction\n",
              "0           1  2001  0.381 -0.192 -2.624 -1.055  5.010  1.1913  0.959        Up\n",
              "1           2  2001  0.959  0.381 -0.192 -2.624 -1.055  1.2965  1.032        Up\n",
              "2           3  2001  1.032  0.959  0.381 -0.192 -2.624  1.4112 -0.623      Down\n",
              "3           4  2001 -0.623  1.032  0.959  0.381 -0.192  1.2760  0.614        Up\n",
              "4           5  2001  0.614 -0.623  1.032  0.959  0.381  1.2057  0.213        Up"
            ]
          },
          "metadata": {
            "tags": []
          },
          "execution_count": 37
        }
      ]
    },
    {
      "cell_type": "code",
      "metadata": {
        "id": "IvhYMLbN4hch"
      },
      "source": [
        "smarket['Up'] = np.where(smarket['Direction'] == 'Up', 1, 0)"
      ],
      "execution_count": 38,
      "outputs": []
    },
    {
      "cell_type": "code",
      "metadata": {
        "colab": {
          "base_uri": "https://localhost:8080/",
          "height": 359
        },
        "id": "VelWGCdP4mvk",
        "outputId": "a7f5fdf5-9b76-47cb-a968-d377b54d8f7b"
      },
      "source": [
        "smarket.corr()"
      ],
      "execution_count": 39,
      "outputs": [
        {
          "output_type": "execute_result",
          "data": {
            "text/html": [
              "<div>\n",
              "<style scoped>\n",
              "    .dataframe tbody tr th:only-of-type {\n",
              "        vertical-align: middle;\n",
              "    }\n",
              "\n",
              "    .dataframe tbody tr th {\n",
              "        vertical-align: top;\n",
              "    }\n",
              "\n",
              "    .dataframe thead th {\n",
              "        text-align: right;\n",
              "    }\n",
              "</style>\n",
              "<table border=\"1\" class=\"dataframe\">\n",
              "  <thead>\n",
              "    <tr style=\"text-align: right;\">\n",
              "      <th></th>\n",
              "      <th>Unnamed: 0</th>\n",
              "      <th>Year</th>\n",
              "      <th>Lag1</th>\n",
              "      <th>Lag2</th>\n",
              "      <th>Lag3</th>\n",
              "      <th>Lag4</th>\n",
              "      <th>Lag5</th>\n",
              "      <th>Volume</th>\n",
              "      <th>Today</th>\n",
              "      <th>Up</th>\n",
              "    </tr>\n",
              "  </thead>\n",
              "  <tbody>\n",
              "    <tr>\n",
              "      <th>Unnamed: 0</th>\n",
              "      <td>1.000000</td>\n",
              "      <td>0.979773</td>\n",
              "      <td>0.035415</td>\n",
              "      <td>0.036022</td>\n",
              "      <td>0.038989</td>\n",
              "      <td>0.041437</td>\n",
              "      <td>0.035025</td>\n",
              "      <td>0.546348</td>\n",
              "      <td>0.035273</td>\n",
              "      <td>0.081433</td>\n",
              "    </tr>\n",
              "    <tr>\n",
              "      <th>Year</th>\n",
              "      <td>0.979773</td>\n",
              "      <td>1.000000</td>\n",
              "      <td>0.029700</td>\n",
              "      <td>0.030596</td>\n",
              "      <td>0.033195</td>\n",
              "      <td>0.035689</td>\n",
              "      <td>0.029788</td>\n",
              "      <td>0.539006</td>\n",
              "      <td>0.030095</td>\n",
              "      <td>0.074608</td>\n",
              "    </tr>\n",
              "    <tr>\n",
              "      <th>Lag1</th>\n",
              "      <td>0.035415</td>\n",
              "      <td>0.029700</td>\n",
              "      <td>1.000000</td>\n",
              "      <td>-0.026294</td>\n",
              "      <td>-0.010803</td>\n",
              "      <td>-0.002986</td>\n",
              "      <td>-0.005675</td>\n",
              "      <td>0.040910</td>\n",
              "      <td>-0.026155</td>\n",
              "      <td>-0.039757</td>\n",
              "    </tr>\n",
              "    <tr>\n",
              "      <th>Lag2</th>\n",
              "      <td>0.036022</td>\n",
              "      <td>0.030596</td>\n",
              "      <td>-0.026294</td>\n",
              "      <td>1.000000</td>\n",
              "      <td>-0.025897</td>\n",
              "      <td>-0.010854</td>\n",
              "      <td>-0.003558</td>\n",
              "      <td>-0.043383</td>\n",
              "      <td>-0.010250</td>\n",
              "      <td>-0.024081</td>\n",
              "    </tr>\n",
              "    <tr>\n",
              "      <th>Lag3</th>\n",
              "      <td>0.038989</td>\n",
              "      <td>0.033195</td>\n",
              "      <td>-0.010803</td>\n",
              "      <td>-0.025897</td>\n",
              "      <td>1.000000</td>\n",
              "      <td>-0.024051</td>\n",
              "      <td>-0.018808</td>\n",
              "      <td>-0.041824</td>\n",
              "      <td>-0.002448</td>\n",
              "      <td>0.006132</td>\n",
              "    </tr>\n",
              "    <tr>\n",
              "      <th>Lag4</th>\n",
              "      <td>0.041437</td>\n",
              "      <td>0.035689</td>\n",
              "      <td>-0.002986</td>\n",
              "      <td>-0.010854</td>\n",
              "      <td>-0.024051</td>\n",
              "      <td>1.000000</td>\n",
              "      <td>-0.027084</td>\n",
              "      <td>-0.048414</td>\n",
              "      <td>-0.006900</td>\n",
              "      <td>0.004215</td>\n",
              "    </tr>\n",
              "    <tr>\n",
              "      <th>Lag5</th>\n",
              "      <td>0.035025</td>\n",
              "      <td>0.029788</td>\n",
              "      <td>-0.005675</td>\n",
              "      <td>-0.003558</td>\n",
              "      <td>-0.018808</td>\n",
              "      <td>-0.027084</td>\n",
              "      <td>1.000000</td>\n",
              "      <td>-0.022002</td>\n",
              "      <td>-0.034860</td>\n",
              "      <td>0.005423</td>\n",
              "    </tr>\n",
              "    <tr>\n",
              "      <th>Volume</th>\n",
              "      <td>0.546348</td>\n",
              "      <td>0.539006</td>\n",
              "      <td>0.040910</td>\n",
              "      <td>-0.043383</td>\n",
              "      <td>-0.041824</td>\n",
              "      <td>-0.048414</td>\n",
              "      <td>-0.022002</td>\n",
              "      <td>1.000000</td>\n",
              "      <td>0.014592</td>\n",
              "      <td>0.022951</td>\n",
              "    </tr>\n",
              "    <tr>\n",
              "      <th>Today</th>\n",
              "      <td>0.035273</td>\n",
              "      <td>0.030095</td>\n",
              "      <td>-0.026155</td>\n",
              "      <td>-0.010250</td>\n",
              "      <td>-0.002448</td>\n",
              "      <td>-0.006900</td>\n",
              "      <td>-0.034860</td>\n",
              "      <td>0.014592</td>\n",
              "      <td>1.000000</td>\n",
              "      <td>0.730563</td>\n",
              "    </tr>\n",
              "    <tr>\n",
              "      <th>Up</th>\n",
              "      <td>0.081433</td>\n",
              "      <td>0.074608</td>\n",
              "      <td>-0.039757</td>\n",
              "      <td>-0.024081</td>\n",
              "      <td>0.006132</td>\n",
              "      <td>0.004215</td>\n",
              "      <td>0.005423</td>\n",
              "      <td>0.022951</td>\n",
              "      <td>0.730563</td>\n",
              "      <td>1.000000</td>\n",
              "    </tr>\n",
              "  </tbody>\n",
              "</table>\n",
              "</div>"
            ],
            "text/plain": [
              "            Unnamed: 0      Year      Lag1  ...    Volume     Today        Up\n",
              "Unnamed: 0    1.000000  0.979773  0.035415  ...  0.546348  0.035273  0.081433\n",
              "Year          0.979773  1.000000  0.029700  ...  0.539006  0.030095  0.074608\n",
              "Lag1          0.035415  0.029700  1.000000  ...  0.040910 -0.026155 -0.039757\n",
              "Lag2          0.036022  0.030596 -0.026294  ... -0.043383 -0.010250 -0.024081\n",
              "Lag3          0.038989  0.033195 -0.010803  ... -0.041824 -0.002448  0.006132\n",
              "Lag4          0.041437  0.035689 -0.002986  ... -0.048414 -0.006900  0.004215\n",
              "Lag5          0.035025  0.029788 -0.005675  ... -0.022002 -0.034860  0.005423\n",
              "Volume        0.546348  0.539006  0.040910  ...  1.000000  0.014592  0.022951\n",
              "Today         0.035273  0.030095 -0.026155  ...  0.014592  1.000000  0.730563\n",
              "Up            0.081433  0.074608 -0.039757  ...  0.022951  0.730563  1.000000\n",
              "\n",
              "[10 rows x 10 columns]"
            ]
          },
          "metadata": {
            "tags": []
          },
          "execution_count": 39
        }
      ]
    },
    {
      "cell_type": "code",
      "metadata": {
        "id": "nqhsNJ9B4qd2"
      },
      "source": [
        "X = smarket[['Lag1', 'Lag2', 'Lag3', 'Lag4', 'Lag5']].values\n",
        "y = smarket['Up'].values"
      ],
      "execution_count": 41,
      "outputs": []
    },
    {
      "cell_type": "code",
      "metadata": {
        "id": "HFIbg-Qi4243"
      },
      "source": [
        "train_bool = smarket['Year'].values < 2005\n",
        "X_train = X[train_bool]\n",
        "X_test = X[~train_bool]\n",
        "y_train = y[train_bool]\n",
        "y_test = y[~train_bool]"
      ],
      "execution_count": 45,
      "outputs": []
    },
    {
      "cell_type": "code",
      "metadata": {
        "colab": {
          "base_uri": "https://localhost:8080/",
          "height": 383
        },
        "id": "u7YkDaQB5Km1",
        "outputId": "76df74ab-548b-459e-a3d8-8fadbf468c95"
      },
      "source": [
        "results = smf.logit('Up ~ Lag1 + Lag2 + Lag3 + Lag4 + Lag5', data=smarket).fit()\n",
        "results.summary()"
      ],
      "execution_count": 46,
      "outputs": [
        {
          "output_type": "stream",
          "text": [
            "Optimization terminated successfully.\n",
            "         Current function value: 0.691327\n",
            "         Iterations 4\n"
          ],
          "name": "stdout"
        },
        {
          "output_type": "execute_result",
          "data": {
            "text/html": [
              "<table class=\"simpletable\">\n",
              "<caption>Logit Regression Results</caption>\n",
              "<tr>\n",
              "  <th>Dep. Variable:</th>          <td>Up</td>        <th>  No. Observations:  </th>  <td>  1250</td> \n",
              "</tr>\n",
              "<tr>\n",
              "  <th>Model:</th>                 <td>Logit</td>      <th>  Df Residuals:      </th>  <td>  1244</td> \n",
              "</tr>\n",
              "<tr>\n",
              "  <th>Method:</th>                 <td>MLE</td>       <th>  Df Model:          </th>  <td>     5</td> \n",
              "</tr>\n",
              "<tr>\n",
              "  <th>Date:</th>            <td>Thu, 12 Aug 2021</td> <th>  Pseudo R-squ.:     </th> <td>0.001651</td>\n",
              "</tr>\n",
              "<tr>\n",
              "  <th>Time:</th>                <td>19:44:44</td>     <th>  Log-Likelihood:    </th> <td> -864.16</td>\n",
              "</tr>\n",
              "<tr>\n",
              "  <th>converged:</th>             <td>True</td>       <th>  LL-Null:           </th> <td> -865.59</td>\n",
              "</tr>\n",
              "<tr>\n",
              "  <th>Covariance Type:</th>     <td>nonrobust</td>    <th>  LLR p-value:       </th>  <td>0.7219</td> \n",
              "</tr>\n",
              "</table>\n",
              "<table class=\"simpletable\">\n",
              "<tr>\n",
              "      <td></td>         <th>coef</th>     <th>std err</th>      <th>z</th>      <th>P>|z|</th>  <th>[0.025</th>    <th>0.975]</th>  \n",
              "</tr>\n",
              "<tr>\n",
              "  <th>Intercept</th> <td>    0.0742</td> <td>    0.057</td> <td>    1.309</td> <td> 0.191</td> <td>   -0.037</td> <td>    0.185</td>\n",
              "</tr>\n",
              "<tr>\n",
              "  <th>Lag1</th>      <td>   -0.0713</td> <td>    0.050</td> <td>   -1.424</td> <td> 0.155</td> <td>   -0.170</td> <td>    0.027</td>\n",
              "</tr>\n",
              "<tr>\n",
              "  <th>Lag2</th>      <td>   -0.0441</td> <td>    0.050</td> <td>   -0.882</td> <td> 0.378</td> <td>   -0.142</td> <td>    0.054</td>\n",
              "</tr>\n",
              "<tr>\n",
              "  <th>Lag3</th>      <td>    0.0092</td> <td>    0.050</td> <td>    0.185</td> <td> 0.853</td> <td>   -0.089</td> <td>    0.107</td>\n",
              "</tr>\n",
              "<tr>\n",
              "  <th>Lag4</th>      <td>    0.0072</td> <td>    0.050</td> <td>    0.145</td> <td> 0.885</td> <td>   -0.091</td> <td>    0.105</td>\n",
              "</tr>\n",
              "<tr>\n",
              "  <th>Lag5</th>      <td>    0.0093</td> <td>    0.049</td> <td>    0.188</td> <td> 0.851</td> <td>   -0.088</td> <td>    0.106</td>\n",
              "</tr>\n",
              "</table>"
            ],
            "text/plain": [
              "<class 'statsmodels.iolib.summary.Summary'>\n",
              "\"\"\"\n",
              "                           Logit Regression Results                           \n",
              "==============================================================================\n",
              "Dep. Variable:                     Up   No. Observations:                 1250\n",
              "Model:                          Logit   Df Residuals:                     1244\n",
              "Method:                           MLE   Df Model:                            5\n",
              "Date:                Thu, 12 Aug 2021   Pseudo R-squ.:                0.001651\n",
              "Time:                        19:44:44   Log-Likelihood:                -864.16\n",
              "converged:                       True   LL-Null:                       -865.59\n",
              "Covariance Type:            nonrobust   LLR p-value:                    0.7219\n",
              "==============================================================================\n",
              "                 coef    std err          z      P>|z|      [0.025      0.975]\n",
              "------------------------------------------------------------------------------\n",
              "Intercept      0.0742      0.057      1.309      0.191      -0.037       0.185\n",
              "Lag1          -0.0713      0.050     -1.424      0.155      -0.170       0.027\n",
              "Lag2          -0.0441      0.050     -0.882      0.378      -0.142       0.054\n",
              "Lag3           0.0092      0.050      0.185      0.853      -0.089       0.107\n",
              "Lag4           0.0072      0.050      0.145      0.885      -0.091       0.105\n",
              "Lag5           0.0093      0.049      0.188      0.851      -0.088       0.106\n",
              "==============================================================================\n",
              "\"\"\""
            ]
          },
          "metadata": {
            "tags": []
          },
          "execution_count": 46
        }
      ]
    },
    {
      "cell_type": "code",
      "metadata": {
        "id": "-QY654hh5WwP"
      },
      "source": [
        "from sklearn.metrics import confusion_matrix"
      ],
      "execution_count": 47,
      "outputs": []
    },
    {
      "cell_type": "code",
      "metadata": {
        "colab": {
          "base_uri": "https://localhost:8080/"
        },
        "id": "2O0wV0J45ZCn",
        "outputId": "d1e8d81a-235e-41c2-ea3f-108cd92a736c"
      },
      "source": [
        "lr = LogisticRegression()\n",
        "lr.fit(X_train, y_train)"
      ],
      "execution_count": 48,
      "outputs": [
        {
          "output_type": "execute_result",
          "data": {
            "text/plain": [
              "LogisticRegression(C=1.0, class_weight=None, dual=False, fit_intercept=True,\n",
              "                   intercept_scaling=1, l1_ratio=None, max_iter=100,\n",
              "                   multi_class='auto', n_jobs=None, penalty='l2',\n",
              "                   random_state=None, solver='lbfgs', tol=0.0001, verbose=0,\n",
              "                   warm_start=False)"
            ]
          },
          "metadata": {
            "tags": []
          },
          "execution_count": 48
        }
      ]
    },
    {
      "cell_type": "code",
      "metadata": {
        "colab": {
          "base_uri": "https://localhost:8080/"
        },
        "id": "slrGIqhV5dre",
        "outputId": "00996091-6609-4873-fab9-b75829772dcf"
      },
      "source": [
        "# True on the left axis, predicted above\n",
        "confusion_matrix(y_test, lr.predict(X_test))"
      ],
      "execution_count": 49,
      "outputs": [
        {
          "output_type": "execute_result",
          "data": {
            "text/plain": [
              "array([[ 37,  74],\n",
              "       [ 30, 111]])"
            ]
          },
          "metadata": {
            "tags": []
          },
          "execution_count": 49
        }
      ]
    },
    {
      "cell_type": "code",
      "metadata": {
        "colab": {
          "base_uri": "https://localhost:8080/"
        },
        "id": "-2MDm1fD5lHl",
        "outputId": "39fae2a5-6558-4a00-aad0-a56e40c2364e"
      },
      "source": [
        "147 / len(y_test)"
      ],
      "execution_count": 50,
      "outputs": [
        {
          "output_type": "execute_result",
          "data": {
            "text/plain": [
              "0.5833333333333334"
            ]
          },
          "metadata": {
            "tags": []
          },
          "execution_count": 50
        }
      ]
    },
    {
      "cell_type": "markdown",
      "metadata": {
        "id": "lHe1GKSs5oSd"
      },
      "source": [
        "Out of the 67 predicted down, 37 actually were down. 54% accuracy. \n",
        "Out of the 185 predicted up, 111 actually were up. 60% accuracy. \n",
        "\n",
        "58% total accuracy. "
      ]
    },
    {
      "cell_type": "code",
      "metadata": {
        "id": "XZVEp6Sd52Ka"
      },
      "source": [
        "y_pred = lr.predict(X_test)"
      ],
      "execution_count": 51,
      "outputs": []
    },
    {
      "cell_type": "code",
      "metadata": {
        "colab": {
          "base_uri": "https://localhost:8080/"
        },
        "id": "tm-hFf_g55Pu",
        "outputId": "edc4ffa9-6288-4f5f-cb00-196cb16a43e9"
      },
      "source": [
        "y_pred[y_test == 1]"
      ],
      "execution_count": 52,
      "outputs": [
        {
          "output_type": "execute_result",
          "data": {
            "text/plain": [
              "array([1, 1, 1, 1, 1, 1, 1, 0, 1, 1, 0, 1, 0, 1, 1, 0, 0, 1, 1, 1, 1, 0,\n",
              "       1, 1, 1, 0, 1, 1, 1, 1, 1, 1, 1, 1, 0, 0, 1, 1, 1, 1, 1, 0, 1, 1,\n",
              "       1, 1, 1, 1, 1, 0, 0, 0, 1, 1, 1, 1, 1, 1, 1, 1, 1, 1, 1, 1, 1, 1,\n",
              "       1, 1, 1, 1, 1, 0, 0, 1, 1, 1, 1, 1, 1, 1, 1, 1, 1, 1, 0, 1, 1, 1,\n",
              "       1, 1, 1, 1, 1, 1, 0, 1, 0, 1, 1, 1, 1, 1, 1, 1, 1, 1, 0, 1, 1, 0,\n",
              "       1, 1, 1, 1, 0, 1, 1, 0, 1, 1, 1, 0, 1, 1, 0, 0, 0, 0, 0, 1, 1, 0,\n",
              "       1, 1, 1, 1, 1, 1, 1, 0, 1])"
            ]
          },
          "metadata": {
            "tags": []
          },
          "execution_count": 52
        }
      ]
    },
    {
      "cell_type": "code",
      "metadata": {
        "id": "IpanZXjh57uU"
      },
      "source": [
        "from sklearn.discriminant_analysis import LinearDiscriminantAnalysis, QuadraticDiscriminantAnalysis"
      ],
      "execution_count": 53,
      "outputs": []
    },
    {
      "cell_type": "code",
      "metadata": {
        "id": "6mChO4cg6I8t"
      },
      "source": [
        "lda = LinearDiscriminantAnalysis()"
      ],
      "execution_count": 54,
      "outputs": []
    },
    {
      "cell_type": "code",
      "metadata": {
        "colab": {
          "base_uri": "https://localhost:8080/"
        },
        "id": "S7TedwkN6LPc",
        "outputId": "961b231e-2dbb-4e5a-dd49-eff45b521aad"
      },
      "source": [
        "lda.fit(X_train, y_train)"
      ],
      "execution_count": 55,
      "outputs": [
        {
          "output_type": "execute_result",
          "data": {
            "text/plain": [
              "LinearDiscriminantAnalysis(n_components=None, priors=None, shrinkage=None,\n",
              "                           solver='svd', store_covariance=False, tol=0.0001)"
            ]
          },
          "metadata": {
            "tags": []
          },
          "execution_count": 55
        }
      ]
    },
    {
      "cell_type": "code",
      "metadata": {
        "colab": {
          "base_uri": "https://localhost:8080/"
        },
        "id": "5puoL9Th6Oss",
        "outputId": "265cbb0d-d4f5-46c2-aba3-19b07a1fc971"
      },
      "source": [
        "# Almost exact same as logisitic regression\n",
        "confusion_matrix(y_test, lda.predict(X_test))"
      ],
      "execution_count": 56,
      "outputs": [
        {
          "output_type": "execute_result",
          "data": {
            "text/plain": [
              "array([[ 37,  74],\n",
              "       [ 30, 111]])"
            ]
          },
          "metadata": {
            "tags": []
          },
          "execution_count": 56
        }
      ]
    },
    {
      "cell_type": "code",
      "metadata": {
        "colab": {
          "base_uri": "https://localhost:8080/"
        },
        "id": "ARIDP2MT6WX9",
        "outputId": "738b2c25-00ae-437e-d676-bbab52c512e4"
      },
      "source": [
        "lda.priors_"
      ],
      "execution_count": 57,
      "outputs": [
        {
          "output_type": "execute_result",
          "data": {
            "text/plain": [
              "array([0.49198397, 0.50801603])"
            ]
          },
          "metadata": {
            "tags": []
          },
          "execution_count": 57
        }
      ]
    },
    {
      "cell_type": "code",
      "metadata": {
        "colab": {
          "base_uri": "https://localhost:8080/"
        },
        "id": "WsPGf_4Q6du3",
        "outputId": "afd25220-a011-4b99-d139-bb2fa5637b51"
      },
      "source": [
        "# Use QDA with only 2 variables\n",
        "qda = QuadraticDiscriminantAnalysis()\n",
        "qda.fit(X_train[:,:2], y_train)"
      ],
      "execution_count": 58,
      "outputs": [
        {
          "output_type": "execute_result",
          "data": {
            "text/plain": [
              "QuadraticDiscriminantAnalysis(priors=None, reg_param=0.0,\n",
              "                              store_covariance=False, tol=0.0001)"
            ]
          },
          "metadata": {
            "tags": []
          },
          "execution_count": 58
        }
      ]
    },
    {
      "cell_type": "code",
      "metadata": {
        "colab": {
          "base_uri": "https://localhost:8080/"
        },
        "id": "yrBWOVBK6l7u",
        "outputId": "f8876748-92ca-46cf-c881-d7a8eb455fca"
      },
      "source": [
        "# Almost exact same as logistic regression\n",
        "confusion_matrix(y_test, qda.predict(X_test[:,:2]))"
      ],
      "execution_count": 59,
      "outputs": [
        {
          "output_type": "execute_result",
          "data": {
            "text/plain": [
              "array([[ 30,  81],\n",
              "       [ 20, 121]])"
            ]
          },
          "metadata": {
            "tags": []
          },
          "execution_count": 59
        }
      ]
    },
    {
      "cell_type": "code",
      "metadata": {
        "id": "FI4u7kXc6wNP"
      },
      "source": [
        "# KNN\n",
        "from sklearn.neighbors import KNeighborsClassifier"
      ],
      "execution_count": 60,
      "outputs": []
    },
    {
      "cell_type": "code",
      "metadata": {
        "id": "xrZCU0f-60ps"
      },
      "source": [
        "knn = KNeighborsClassifier(n_neighbors=3)"
      ],
      "execution_count": 61,
      "outputs": []
    },
    {
      "cell_type": "code",
      "metadata": {
        "colab": {
          "base_uri": "https://localhost:8080/"
        },
        "id": "_zO63l9u64CD",
        "outputId": "65c537b4-d04d-4f1f-ee4a-b6e5aca18fe7"
      },
      "source": [
        "knn.fit(X_train[:,:2], y_train)"
      ],
      "execution_count": 62,
      "outputs": [
        {
          "output_type": "execute_result",
          "data": {
            "text/plain": [
              "KNeighborsClassifier(algorithm='auto', leaf_size=30, metric='minkowski',\n",
              "                     metric_params=None, n_jobs=None, n_neighbors=3, p=2,\n",
              "                     weights='uniform')"
            ]
          },
          "metadata": {
            "tags": []
          },
          "execution_count": 62
        }
      ]
    },
    {
      "cell_type": "code",
      "metadata": {
        "colab": {
          "base_uri": "https://localhost:8080/"
        },
        "id": "jZfRWFW868Xb",
        "outputId": "0812310d-d8be-4650-b951-607bf3bdeef4"
      },
      "source": [
        "confusion_matrix(y_test, knn.predict(X_test[:,:2]))"
      ],
      "execution_count": 63,
      "outputs": [
        {
          "output_type": "execute_result",
          "data": {
            "text/plain": [
              "array([[48, 63],\n",
              "       [55, 86]])"
            ]
          },
          "metadata": {
            "tags": []
          },
          "execution_count": 63
        }
      ]
    },
    {
      "cell_type": "code",
      "metadata": {
        "colab": {
          "base_uri": "https://localhost:8080/"
        },
        "id": "u1UEpcLv7Kis",
        "outputId": "b10b7742-e1b5-48a4-8eef-e936ce0a4076"
      },
      "source": [
        "X_test[:,:2]"
      ],
      "execution_count": 64,
      "outputs": [
        {
          "output_type": "execute_result",
          "data": {
            "text/plain": [
              "array([[-1.340e-01,  8.000e-03],\n",
              "       [-8.120e-01, -1.340e-01],\n",
              "       [-1.167e+00, -8.120e-01],\n",
              "       [-3.630e-01, -1.167e+00],\n",
              "       [ 3.510e-01, -3.630e-01],\n",
              "       [-1.430e-01,  3.510e-01],\n",
              "       [ 3.420e-01, -1.430e-01],\n",
              "       [-6.100e-01,  3.420e-01],\n",
              "       [ 3.980e-01, -6.100e-01],\n",
              "       [-8.630e-01,  3.980e-01],\n",
              "       [ 6.000e-01, -8.630e-01],\n",
              "       [ 9.670e-01,  6.000e-01],\n",
              "       [-9.490e-01,  9.670e-01],\n",
              "       [-7.780e-01, -9.490e-01],\n",
              "       [-6.410e-01, -7.780e-01],\n",
              "       [-3.530e-01, -6.410e-01],\n",
              "       [ 4.000e-01, -3.530e-01],\n",
              "       [ 4.840e-01,  4.000e-01],\n",
              "       [ 4.100e-02,  4.840e-01],\n",
              "       [-2.720e-01,  4.100e-02],\n",
              "       [ 8.460e-01, -2.720e-01],\n",
              "       [ 6.890e-01,  8.460e-01],\n",
              "       [ 3.180e-01,  6.890e-01],\n",
              "       [-2.770e-01,  3.180e-01],\n",
              "       [ 1.104e+00, -2.770e-01],\n",
              "       [-1.090e-01,  1.104e+00],\n",
              "       [ 4.800e-02, -1.090e-01],\n",
              "       [-8.580e-01,  4.800e-02],\n",
              "       [ 4.210e-01, -8.580e-01],\n",
              "       [ 6.930e-01,  4.210e-01],\n",
              "       [ 7.000e-02,  6.930e-01],\n",
              "       [ 3.300e-01,  7.000e-02],\n",
              "       [ 1.800e-02,  3.300e-01],\n",
              "       [-7.920e-01,  1.800e-02],\n",
              "       [ 7.000e-02, -7.920e-01],\n",
              "       [-1.451e+00,  7.000e-02],\n",
              "       [ 5.610e-01, -1.451e+00],\n",
              "       [ 7.890e-01,  5.610e-01],\n",
              "       [ 9.310e-01,  7.890e-01],\n",
              "       [-6.410e-01,  9.310e-01],\n",
              "       [ 5.660e-01, -6.410e-01],\n",
              "       [-2.700e-02,  5.660e-01],\n",
              "       [ 3.200e-02, -2.700e-02],\n",
              "       [ 9.620e-01,  3.200e-02],\n",
              "       [ 2.610e-01,  9.620e-01],\n",
              "       [-4.800e-01,  2.610e-01],\n",
              "       [-1.019e+00, -4.800e-01],\n",
              "       [ 1.860e-01, -1.019e+00],\n",
              "       [-7.580e-01,  1.860e-01],\n",
              "       [ 5.620e-01, -7.580e-01],\n",
              "       [-7.520e-01,  5.620e-01],\n",
              "       [-8.080e-01, -7.520e-01],\n",
              "       [ 1.800e-01, -8.080e-01],\n",
              "       [-4.700e-02,  1.800e-01],\n",
              "       [-4.930e-01, -4.700e-02],\n",
              "       [-1.020e+00, -4.930e-01],\n",
              "       [ 7.000e-02, -1.020e+00],\n",
              "       [-9.500e-02,  7.000e-02],\n",
              "       [ 2.440e-01, -9.500e-02],\n",
              "       [-7.600e-01,  2.440e-01],\n",
              "       [ 1.377e+00, -7.600e-01],\n",
              "       [-6.900e-02,  1.377e+00],\n",
              "       [-6.500e-01, -6.900e-02],\n",
              "       [ 2.730e-01, -6.500e-01],\n",
              "       [ 4.480e-01,  2.730e-01],\n",
              "       [ 2.270e-01,  4.480e-01],\n",
              "       [ 5.970e-01,  2.270e-01],\n",
              "       [-8.340e-01,  5.970e-01],\n",
              "       [ 1.000e-03, -8.340e-01],\n",
              "       [ 5.550e-01,  1.000e-03],\n",
              "       [-1.176e+00,  5.550e-01],\n",
              "       [-1.000e+00, -1.176e+00],\n",
              "       [-1.672e+00, -1.000e+00],\n",
              "       [ 2.940e-01, -1.672e+00],\n",
              "       [ 5.930e-01,  2.940e-01],\n",
              "       [-1.325e+00,  5.930e-01],\n",
              "       [ 1.974e+00, -1.325e+00],\n",
              "       [-6.750e-01,  1.974e+00],\n",
              "       [ 8.660e-01, -6.750e-01],\n",
              "       [-8.840e-01,  8.660e-01],\n",
              "       [ 3.950e-01, -8.840e-01],\n",
              "       [-1.138e+00,  3.950e-01],\n",
              "       [ 1.192e+00, -1.138e+00],\n",
              "       [ 4.590e-01,  1.192e+00],\n",
              "       [-8.500e-02,  4.590e-01],\n",
              "       [ 1.247e+00, -8.500e-02],\n",
              "       [-2.570e-01,  1.247e+00],\n",
              "       [-1.090e-01, -2.570e-01],\n",
              "       [ 6.390e-01, -1.090e-01],\n",
              "       [-1.071e+00,  6.390e-01],\n",
              "       [ 4.190e-01, -1.071e+00],\n",
              "       [-1.003e+00,  4.190e-01],\n",
              "       [-4.580e-01, -1.003e+00],\n",
              "       [ 1.009e+00, -4.580e-01],\n",
              "       [ 6.960e-01,  1.009e+00],\n",
              "       [ 1.002e+00,  6.960e-01],\n",
              "       [ 4.660e-01,  1.002e+00],\n",
              "       [-1.510e-01,  4.660e-01],\n",
              "       [ 3.850e-01, -1.510e-01],\n",
              "       [ 1.800e-02,  3.850e-01],\n",
              "       [-3.400e-01,  1.800e-02],\n",
              "       [ 6.390e-01, -3.400e-01],\n",
              "       [ 9.700e-02,  6.390e-01],\n",
              "       [-6.070e-01,  9.700e-02],\n",
              "       [ 9.000e-01, -6.070e-01],\n",
              "       [ 1.720e-01,  9.000e-01],\n",
              "       [-6.870e-01,  1.720e-01],\n",
              "       [ 1.250e-01, -6.870e-01],\n",
              "       [-2.100e-02,  1.250e-01],\n",
              "       [-2.160e-01, -2.100e-02],\n",
              "       [ 5.240e-01, -2.160e-01],\n",
              "       [-2.350e-01,  5.240e-01],\n",
              "       [ 2.260e-01, -2.350e-01],\n",
              "       [ 2.570e-01,  2.260e-01],\n",
              "       [ 2.220e-01,  2.570e-01],\n",
              "       [ 3.630e-01,  2.220e-01],\n",
              "       [ 4.950e-01,  3.630e-01],\n",
              "       [-7.100e-02,  4.950e-01],\n",
              "       [-2.050e-01, -7.100e-02],\n",
              "       [ 2.200e-02, -2.050e-01],\n",
              "       [-1.083e+00,  2.200e-02],\n",
              "       [-7.630e-01, -1.083e+00],\n",
              "       [-7.400e-02, -7.630e-01],\n",
              "       [ 9.140e-01, -7.400e-02],\n",
              "       [-1.430e-01,  9.140e-01],\n",
              "       [-7.100e-01, -1.430e-01],\n",
              "       [ 2.610e-01, -7.100e-01],\n",
              "       [ 8.830e-01,  2.610e-01],\n",
              "       [-8.340e-01,  8.830e-01],\n",
              "       [ 2.450e-01, -8.340e-01],\n",
              "       [ 1.168e+00,  2.450e-01],\n",
              "       [ 6.250e-01,  1.168e+00],\n",
              "       [ 2.270e-01,  6.250e-01],\n",
              "       [ 8.800e-02,  2.270e-01],\n",
              "       [ 2.620e-01,  8.800e-02],\n",
              "       [ 1.160e-01,  2.620e-01],\n",
              "       [-5.530e-01,  1.160e-01],\n",
              "       [ 6.730e-01, -5.530e-01],\n",
              "       [ 4.760e-01,  6.730e-01],\n",
              "       [-6.610e-01,  4.760e-01],\n",
              "       [ 5.410e-01, -6.610e-01],\n",
              "       [-3.770e-01,  5.410e-01],\n",
              "       [ 1.730e-01, -3.770e-01],\n",
              "       [ 4.570e-01,  1.730e-01],\n",
              "       [ 5.600e-01,  4.570e-01],\n",
              "       [-7.670e-01,  5.600e-01],\n",
              "       [ 9.500e-02, -7.670e-01],\n",
              "       [ 7.100e-01,  9.500e-02],\n",
              "       [ 7.400e-02,  7.100e-01],\n",
              "       [-7.370e-01,  7.400e-02],\n",
              "       [-7.640e-01, -7.370e-01],\n",
              "       [-2.680e-01, -7.640e-01],\n",
              "       [ 6.740e-01, -2.680e-01],\n",
              "       [-1.830e-01,  6.740e-01],\n",
              "       [ 7.060e-01, -1.830e-01],\n",
              "       [-5.990e-01,  7.060e-01],\n",
              "       [ 2.830e-01, -5.990e-01],\n",
              "       [-1.178e+00,  2.830e-01],\n",
              "       [ 7.400e-02, -1.178e+00],\n",
              "       [-1.000e-01,  7.400e-02],\n",
              "       [ 5.700e-02, -1.000e-01],\n",
              "       [ 1.660e-01,  5.700e-02],\n",
              "       [-3.390e-01,  1.660e-01],\n",
              "       [-6.570e-01, -3.390e-01],\n",
              "       [ 2.300e-01, -6.570e-01],\n",
              "       [-6.000e-01,  2.300e-01],\n",
              "       [ 5.960e-01, -6.000e-01],\n",
              "       [-3.190e-01,  5.960e-01],\n",
              "       [ 9.860e-01, -3.190e-01],\n",
              "       [ 1.030e-01,  9.860e-01],\n",
              "       [-2.920e-01,  1.030e-01],\n",
              "       [ 1.262e+00, -2.920e-01],\n",
              "       [ 2.410e-01,  1.262e+00],\n",
              "       [-3.790e-01,  2.410e-01],\n",
              "       [ 7.960e-01, -3.790e-01],\n",
              "       [-7.400e-02,  7.960e-01],\n",
              "       [-7.540e-01, -7.400e-02],\n",
              "       [-3.280e-01, -7.540e-01],\n",
              "       [ 4.600e-02, -3.280e-01],\n",
              "       [ 8.290e-01,  4.600e-02],\n",
              "       [-5.570e-01,  8.290e-01],\n",
              "       [-7.860e-01, -5.570e-01],\n",
              "       [-9.120e-01, -7.860e-01],\n",
              "       [ 3.650e-01, -9.120e-01],\n",
              "       [ 5.500e-02,  3.650e-01],\n",
              "       [ 2.800e-02,  5.500e-02],\n",
              "       [ 2.000e-03,  2.800e-02],\n",
              "       [ 1.010e-01,  2.000e-03],\n",
              "       [ 8.870e-01,  1.010e-01],\n",
              "       [ 9.200e-02,  8.870e-01],\n",
              "       [-1.720e-01,  9.200e-02],\n",
              "       [-9.970e-01, -1.720e-01],\n",
              "       [-1.489e+00, -9.970e-01],\n",
              "       [-4.100e-01, -1.489e+00],\n",
              "       [ 3.700e-01, -4.100e-01],\n",
              "       [-7.170e-01,  3.700e-01],\n",
              "       [-2.070e-01, -7.170e-01],\n",
              "       [-6.070e-01, -2.070e-01],\n",
              "       [-7.100e-02, -6.070e-01],\n",
              "       [ 8.270e-01, -7.100e-02],\n",
              "       [ 2.970e-01,  8.270e-01],\n",
              "       [-1.005e+00,  2.970e-01],\n",
              "       [ 1.496e+00, -1.005e+00],\n",
              "       [-1.502e+00,  1.496e+00],\n",
              "       [ 1.520e-01, -1.502e+00],\n",
              "       [ 1.678e+00,  1.520e-01],\n",
              "       [-2.370e-01,  1.678e+00],\n",
              "       [-4.310e-01, -2.370e-01],\n",
              "       [-1.048e+00, -4.310e-01],\n",
              "       [ 1.655e+00, -1.048e+00],\n",
              "       [ 7.180e-01,  1.655e+00],\n",
              "       [-3.520e-01,  7.180e-01],\n",
              "       [ 9.980e-01, -3.520e-01],\n",
              "       [ 4.260e-01,  9.980e-01],\n",
              "       [ 1.600e-02,  4.260e-01],\n",
              "       [ 2.190e-01,  1.600e-02],\n",
              "       [-3.450e-01,  2.190e-01],\n",
              "       [ 1.690e-01, -3.450e-01],\n",
              "       [ 8.450e-01,  1.690e-01],\n",
              "       [ 3.050e-01,  8.450e-01],\n",
              "       [-7.800e-02,  3.050e-01],\n",
              "       [-3.850e-01, -7.800e-02],\n",
              "       [ 1.790e-01, -3.850e-01],\n",
              "       [ 9.410e-01,  1.790e-01],\n",
              "       [ 4.400e-01,  9.410e-01],\n",
              "       [ 5.270e-01,  4.400e-01],\n",
              "       [ 5.080e-01,  5.270e-01],\n",
              "       [ 3.470e-01,  5.080e-01],\n",
              "       [ 2.090e-01,  3.470e-01],\n",
              "       [-8.510e-01,  2.090e-01],\n",
              "       [ 2.000e-03, -8.510e-01],\n",
              "       [-6.360e-01,  2.000e-03],\n",
              "       [ 1.216e+00, -6.360e-01],\n",
              "       [ 3.200e-02,  1.216e+00],\n",
              "       [-2.360e-01,  3.200e-02],\n",
              "       [ 1.280e-01, -2.360e-01],\n",
              "       [-5.010e-01,  1.280e-01],\n",
              "       [-1.220e-01, -5.010e-01],\n",
              "       [ 2.810e-01, -1.220e-01],\n",
              "       [ 8.400e-02,  2.810e-01],\n",
              "       [ 5.550e-01,  8.400e-02],\n",
              "       [ 4.190e-01,  5.550e-01],\n",
              "       [-1.410e-01,  4.190e-01],\n",
              "       [-2.850e-01, -1.410e-01],\n",
              "       [-5.840e-01, -2.850e-01],\n",
              "       [-2.400e-02, -5.840e-01],\n",
              "       [ 2.520e-01, -2.400e-02],\n",
              "       [ 4.220e-01,  2.520e-01],\n",
              "       [ 4.300e-02,  4.220e-01],\n",
              "       [-9.550e-01,  4.300e-02],\n",
              "       [ 1.300e-01, -9.550e-01],\n",
              "       [-2.980e-01,  1.300e-01]])"
            ]
          },
          "metadata": {
            "tags": []
          },
          "execution_count": 64
        }
      ]
    },
    {
      "cell_type": "markdown",
      "metadata": {
        "id": "wcDLGZGr7fC7"
      },
      "source": [
        "# **Applied Questions**"
      ]
    },
    {
      "cell_type": "markdown",
      "metadata": {
        "id": "5dg8oZfA7i94"
      },
      "source": [
        "## **Question 10**"
      ]
    },
    {
      "cell_type": "code",
      "metadata": {
        "colab": {
          "base_uri": "https://localhost:8080/",
          "height": 204
        },
        "id": "ctcplmjO7lZ1",
        "outputId": "8bd03e13-345e-4e95-b52a-311c14b13377"
      },
      "source": [
        "url = \"https://raw.githubusercontent.com/emredjan/ISL-python/master/datasets/Weekly.csv\"\n",
        "weekly = pd.read_csv(url)\n",
        "weekly.head()"
      ],
      "execution_count": 65,
      "outputs": [
        {
          "output_type": "execute_result",
          "data": {
            "text/html": [
              "<div>\n",
              "<style scoped>\n",
              "    .dataframe tbody tr th:only-of-type {\n",
              "        vertical-align: middle;\n",
              "    }\n",
              "\n",
              "    .dataframe tbody tr th {\n",
              "        vertical-align: top;\n",
              "    }\n",
              "\n",
              "    .dataframe thead th {\n",
              "        text-align: right;\n",
              "    }\n",
              "</style>\n",
              "<table border=\"1\" class=\"dataframe\">\n",
              "  <thead>\n",
              "    <tr style=\"text-align: right;\">\n",
              "      <th></th>\n",
              "      <th>Unnamed: 0</th>\n",
              "      <th>Year</th>\n",
              "      <th>Lag1</th>\n",
              "      <th>Lag2</th>\n",
              "      <th>Lag3</th>\n",
              "      <th>Lag4</th>\n",
              "      <th>Lag5</th>\n",
              "      <th>Volume</th>\n",
              "      <th>Today</th>\n",
              "      <th>Direction</th>\n",
              "    </tr>\n",
              "  </thead>\n",
              "  <tbody>\n",
              "    <tr>\n",
              "      <th>0</th>\n",
              "      <td>1</td>\n",
              "      <td>1990</td>\n",
              "      <td>0.816</td>\n",
              "      <td>1.572</td>\n",
              "      <td>-3.936</td>\n",
              "      <td>-0.229</td>\n",
              "      <td>-3.484</td>\n",
              "      <td>0.154976</td>\n",
              "      <td>-0.270</td>\n",
              "      <td>Down</td>\n",
              "    </tr>\n",
              "    <tr>\n",
              "      <th>1</th>\n",
              "      <td>2</td>\n",
              "      <td>1990</td>\n",
              "      <td>-0.270</td>\n",
              "      <td>0.816</td>\n",
              "      <td>1.572</td>\n",
              "      <td>-3.936</td>\n",
              "      <td>-0.229</td>\n",
              "      <td>0.148574</td>\n",
              "      <td>-2.576</td>\n",
              "      <td>Down</td>\n",
              "    </tr>\n",
              "    <tr>\n",
              "      <th>2</th>\n",
              "      <td>3</td>\n",
              "      <td>1990</td>\n",
              "      <td>-2.576</td>\n",
              "      <td>-0.270</td>\n",
              "      <td>0.816</td>\n",
              "      <td>1.572</td>\n",
              "      <td>-3.936</td>\n",
              "      <td>0.159837</td>\n",
              "      <td>3.514</td>\n",
              "      <td>Up</td>\n",
              "    </tr>\n",
              "    <tr>\n",
              "      <th>3</th>\n",
              "      <td>4</td>\n",
              "      <td>1990</td>\n",
              "      <td>3.514</td>\n",
              "      <td>-2.576</td>\n",
              "      <td>-0.270</td>\n",
              "      <td>0.816</td>\n",
              "      <td>1.572</td>\n",
              "      <td>0.161630</td>\n",
              "      <td>0.712</td>\n",
              "      <td>Up</td>\n",
              "    </tr>\n",
              "    <tr>\n",
              "      <th>4</th>\n",
              "      <td>5</td>\n",
              "      <td>1990</td>\n",
              "      <td>0.712</td>\n",
              "      <td>3.514</td>\n",
              "      <td>-2.576</td>\n",
              "      <td>-0.270</td>\n",
              "      <td>0.816</td>\n",
              "      <td>0.153728</td>\n",
              "      <td>1.178</td>\n",
              "      <td>Up</td>\n",
              "    </tr>\n",
              "  </tbody>\n",
              "</table>\n",
              "</div>"
            ],
            "text/plain": [
              "   Unnamed: 0  Year   Lag1   Lag2  ...   Lag5    Volume  Today  Direction\n",
              "0           1  1990  0.816  1.572  ... -3.484  0.154976 -0.270       Down\n",
              "1           2  1990 -0.270  0.816  ... -0.229  0.148574 -2.576       Down\n",
              "2           3  1990 -2.576 -0.270  ... -3.936  0.159837  3.514         Up\n",
              "3           4  1990  3.514 -2.576  ...  1.572  0.161630  0.712         Up\n",
              "4           5  1990  0.712  3.514  ...  0.816  0.153728  1.178         Up\n",
              "\n",
              "[5 rows x 10 columns]"
            ]
          },
          "metadata": {
            "tags": []
          },
          "execution_count": 65
        }
      ]
    },
    {
      "cell_type": "code",
      "metadata": {
        "colab": {
          "base_uri": "https://localhost:8080/",
          "height": 328
        },
        "id": "EelOvq1h7wZi",
        "outputId": "971f88f3-f8ed-47c7-e203-0edaa43814fa"
      },
      "source": [
        "# Strongest correlations with today are lag1 and lag3\n",
        "weekly.corr()"
      ],
      "execution_count": 66,
      "outputs": [
        {
          "output_type": "execute_result",
          "data": {
            "text/html": [
              "<div>\n",
              "<style scoped>\n",
              "    .dataframe tbody tr th:only-of-type {\n",
              "        vertical-align: middle;\n",
              "    }\n",
              "\n",
              "    .dataframe tbody tr th {\n",
              "        vertical-align: top;\n",
              "    }\n",
              "\n",
              "    .dataframe thead th {\n",
              "        text-align: right;\n",
              "    }\n",
              "</style>\n",
              "<table border=\"1\" class=\"dataframe\">\n",
              "  <thead>\n",
              "    <tr style=\"text-align: right;\">\n",
              "      <th></th>\n",
              "      <th>Unnamed: 0</th>\n",
              "      <th>Year</th>\n",
              "      <th>Lag1</th>\n",
              "      <th>Lag2</th>\n",
              "      <th>Lag3</th>\n",
              "      <th>Lag4</th>\n",
              "      <th>Lag5</th>\n",
              "      <th>Volume</th>\n",
              "      <th>Today</th>\n",
              "    </tr>\n",
              "  </thead>\n",
              "  <tbody>\n",
              "    <tr>\n",
              "      <th>Unnamed: 0</th>\n",
              "      <td>1.000000</td>\n",
              "      <td>0.998863</td>\n",
              "      <td>-0.031577</td>\n",
              "      <td>-0.033129</td>\n",
              "      <td>-0.030420</td>\n",
              "      <td>-0.030935</td>\n",
              "      <td>-0.030382</td>\n",
              "      <td>0.842095</td>\n",
              "      <td>-0.031183</td>\n",
              "    </tr>\n",
              "    <tr>\n",
              "      <th>Year</th>\n",
              "      <td>0.998863</td>\n",
              "      <td>1.000000</td>\n",
              "      <td>-0.032289</td>\n",
              "      <td>-0.033390</td>\n",
              "      <td>-0.030006</td>\n",
              "      <td>-0.031128</td>\n",
              "      <td>-0.030519</td>\n",
              "      <td>0.841942</td>\n",
              "      <td>-0.032460</td>\n",
              "    </tr>\n",
              "    <tr>\n",
              "      <th>Lag1</th>\n",
              "      <td>-0.031577</td>\n",
              "      <td>-0.032289</td>\n",
              "      <td>1.000000</td>\n",
              "      <td>-0.074853</td>\n",
              "      <td>0.058636</td>\n",
              "      <td>-0.071274</td>\n",
              "      <td>-0.008183</td>\n",
              "      <td>-0.064951</td>\n",
              "      <td>-0.075032</td>\n",
              "    </tr>\n",
              "    <tr>\n",
              "      <th>Lag2</th>\n",
              "      <td>-0.033129</td>\n",
              "      <td>-0.033390</td>\n",
              "      <td>-0.074853</td>\n",
              "      <td>1.000000</td>\n",
              "      <td>-0.075721</td>\n",
              "      <td>0.058382</td>\n",
              "      <td>-0.072499</td>\n",
              "      <td>-0.085513</td>\n",
              "      <td>0.059167</td>\n",
              "    </tr>\n",
              "    <tr>\n",
              "      <th>Lag3</th>\n",
              "      <td>-0.030420</td>\n",
              "      <td>-0.030006</td>\n",
              "      <td>0.058636</td>\n",
              "      <td>-0.075721</td>\n",
              "      <td>1.000000</td>\n",
              "      <td>-0.075396</td>\n",
              "      <td>0.060657</td>\n",
              "      <td>-0.069288</td>\n",
              "      <td>-0.071244</td>\n",
              "    </tr>\n",
              "    <tr>\n",
              "      <th>Lag4</th>\n",
              "      <td>-0.030935</td>\n",
              "      <td>-0.031128</td>\n",
              "      <td>-0.071274</td>\n",
              "      <td>0.058382</td>\n",
              "      <td>-0.075396</td>\n",
              "      <td>1.000000</td>\n",
              "      <td>-0.075675</td>\n",
              "      <td>-0.061075</td>\n",
              "      <td>-0.007826</td>\n",
              "    </tr>\n",
              "    <tr>\n",
              "      <th>Lag5</th>\n",
              "      <td>-0.030382</td>\n",
              "      <td>-0.030519</td>\n",
              "      <td>-0.008183</td>\n",
              "      <td>-0.072499</td>\n",
              "      <td>0.060657</td>\n",
              "      <td>-0.075675</td>\n",
              "      <td>1.000000</td>\n",
              "      <td>-0.058517</td>\n",
              "      <td>0.011013</td>\n",
              "    </tr>\n",
              "    <tr>\n",
              "      <th>Volume</th>\n",
              "      <td>0.842095</td>\n",
              "      <td>0.841942</td>\n",
              "      <td>-0.064951</td>\n",
              "      <td>-0.085513</td>\n",
              "      <td>-0.069288</td>\n",
              "      <td>-0.061075</td>\n",
              "      <td>-0.058517</td>\n",
              "      <td>1.000000</td>\n",
              "      <td>-0.033078</td>\n",
              "    </tr>\n",
              "    <tr>\n",
              "      <th>Today</th>\n",
              "      <td>-0.031183</td>\n",
              "      <td>-0.032460</td>\n",
              "      <td>-0.075032</td>\n",
              "      <td>0.059167</td>\n",
              "      <td>-0.071244</td>\n",
              "      <td>-0.007826</td>\n",
              "      <td>0.011013</td>\n",
              "      <td>-0.033078</td>\n",
              "      <td>1.000000</td>\n",
              "    </tr>\n",
              "  </tbody>\n",
              "</table>\n",
              "</div>"
            ],
            "text/plain": [
              "            Unnamed: 0      Year      Lag1  ...      Lag5    Volume     Today\n",
              "Unnamed: 0    1.000000  0.998863 -0.031577  ... -0.030382  0.842095 -0.031183\n",
              "Year          0.998863  1.000000 -0.032289  ... -0.030519  0.841942 -0.032460\n",
              "Lag1         -0.031577 -0.032289  1.000000  ... -0.008183 -0.064951 -0.075032\n",
              "Lag2         -0.033129 -0.033390 -0.074853  ... -0.072499 -0.085513  0.059167\n",
              "Lag3         -0.030420 -0.030006  0.058636  ...  0.060657 -0.069288 -0.071244\n",
              "Lag4         -0.030935 -0.031128 -0.071274  ... -0.075675 -0.061075 -0.007826\n",
              "Lag5         -0.030382 -0.030519 -0.008183  ...  1.000000 -0.058517  0.011013\n",
              "Volume        0.842095  0.841942 -0.064951  ... -0.058517  1.000000 -0.033078\n",
              "Today        -0.031183 -0.032460 -0.075032  ...  0.011013 -0.033078  1.000000\n",
              "\n",
              "[9 rows x 9 columns]"
            ]
          },
          "metadata": {
            "tags": []
          },
          "execution_count": 66
        }
      ]
    },
    {
      "cell_type": "code",
      "metadata": {
        "id": "N9NPK1sT72Mr"
      },
      "source": [
        "today = weekly['Today']"
      ],
      "execution_count": 67,
      "outputs": []
    },
    {
      "cell_type": "code",
      "metadata": {
        "id": "OB_uKWO274-D"
      },
      "source": [
        "today_perc = (100 + today) / 100"
      ],
      "execution_count": 68,
      "outputs": []
    },
    {
      "cell_type": "code",
      "metadata": {
        "colab": {
          "base_uri": "https://localhost:8080/",
          "height": 282
        },
        "id": "39a0Li6W78pr",
        "outputId": "c4e96b15-80d9-4d84-ba62-ddbb509fbe86"
      },
      "source": [
        "today_perc.cumprod().plot()"
      ],
      "execution_count": 69,
      "outputs": [
        {
          "output_type": "execute_result",
          "data": {
            "text/plain": [
              "<matplotlib.axes._subplots.AxesSubplot at 0x7fc1d8de92d0>"
            ]
          },
          "metadata": {
            "tags": []
          },
          "execution_count": 69
        },
        {
          "output_type": "display_data",
          "data": {
            "image/png": "[encoded data removed]",
            "text/plain": [
              "<Figure size 432x288 with 1 Axes>"
            ]
          },
          "metadata": {
            "tags": [],
            "needs_background": "light"
          }
        }
      ]
    },
    {
      "cell_type": "code",
      "metadata": {
        "colab": {
          "base_uri": "https://localhost:8080/",
          "height": 282
        },
        "id": "PhGmBnZT8A3e",
        "outputId": "caad0e01-ca57-4dae-d773-5624de70c6f9"
      },
      "source": [
        "weekly['Volume'].plot()"
      ],
      "execution_count": 71,
      "outputs": [
        {
          "output_type": "execute_result",
          "data": {
            "text/plain": [
              "<matplotlib.axes._subplots.AxesSubplot at 0x7fc1d5ee8250>"
            ]
          },
          "metadata": {
            "tags": []
          },
          "execution_count": 71
        },
        {
          "output_type": "display_data",
          "data": {
            "image/png": "[encoded data removed]",
            "text/plain": [
              "<Figure size 432x288 with 1 Axes>"
            ]
          },
          "metadata": {
            "tags": [],
            "needs_background": "light"
          }
        }
      ]
    },
    {
      "cell_type": "code",
      "metadata": {
        "colab": {
          "base_uri": "https://localhost:8080/",
          "height": 459
        },
        "id": "Q9Q2BC_g8G_y",
        "outputId": "01349b66-66c2-41ca-95ad-7f52ab244e89"
      },
      "source": [
        "plt.figure(figsize=(8,6))\n",
        "sns.boxplot('Direction', 'Lag1', data=weekly)"
      ],
      "execution_count": 72,
      "outputs": [
        {
          "output_type": "stream",
          "text": [
            "/usr/local/lib/python3.7/dist-packages/seaborn/_decorators.py:43: FutureWarning: Pass the following variables as keyword args: x, y. From version 0.12, the only valid positional argument will be `data`, and passing other arguments without an explicit keyword will result in an error or misinterpretation.\n",
            "  FutureWarning\n"
          ],
          "name": "stderr"
        },
        {
          "output_type": "execute_result",
          "data": {
            "text/plain": [
              "<matplotlib.axes._subplots.AxesSubplot at 0x7fc1d5f33390>"
            ]
          },
          "metadata": {
            "tags": []
          },
          "execution_count": 72
        },
        {
          "output_type": "display_data",
          "data": {
            "image/png": "[encoded data removed]",
            "text/plain": [
              "<Figure size 576x432 with 1 Axes>"
            ]
          },
          "metadata": {
            "tags": [],
            "needs_background": "light"
          }
        }
      ]
    },
    {
      "cell_type": "code",
      "metadata": {
        "colab": {
          "base_uri": "https://localhost:8080/",
          "height": 459
        },
        "id": "tNzA1gHi8Pnt",
        "outputId": "5cc6ecd1-a9f1-451b-f955-b8bbcb893cf8"
      },
      "source": [
        "plt.figure(figsize=(8,6))\n",
        "sns.boxplot('Direction', 'Lag3', data=weekly)"
      ],
      "execution_count": 73,
      "outputs": [
        {
          "output_type": "stream",
          "text": [
            "/usr/local/lib/python3.7/dist-packages/seaborn/_decorators.py:43: FutureWarning: Pass the following variables as keyword args: x, y. From version 0.12, the only valid positional argument will be `data`, and passing other arguments without an explicit keyword will result in an error or misinterpretation.\n",
            "  FutureWarning\n"
          ],
          "name": "stderr"
        },
        {
          "output_type": "execute_result",
          "data": {
            "text/plain": [
              "<matplotlib.axes._subplots.AxesSubplot at 0x7fc1d5df1590>"
            ]
          },
          "metadata": {
            "tags": []
          },
          "execution_count": 73
        },
        {
          "output_type": "display_data",
          "data": {
            "image/png": "[encoded data removed]",
            "text/plain": [
              "<Figure size 576x432 with 1 Axes>"
            ]
          },
          "metadata": {
            "tags": [],
            "needs_background": "light"
          }
        }
      ]
    },
    {
      "cell_type": "code",
      "metadata": {
        "id": "W7vyxaGm8X_X"
      },
      "source": [
        "weekly['Direction'] = np.where(weekly['Direction'] == 'Up', 1, 0)"
      ],
      "execution_count": 74,
      "outputs": []
    },
    {
      "cell_type": "code",
      "metadata": {
        "colab": {
          "base_uri": "https://localhost:8080/",
          "height": 404
        },
        "id": "ZBury0wY8dzL",
        "outputId": "ae6f6df0-fe0d-4126-feaf-32906cd84146"
      },
      "source": [
        "# Wow Lag2 is statistically significant \n",
        "results = smf.logit('Direction ~ Lag1 + Lag2 + Lag3 + Lag4 + Lag5 + Volume', data=weekly).fit()\n",
        "results.summary()"
      ],
      "execution_count": 75,
      "outputs": [
        {
          "output_type": "stream",
          "text": [
            "Optimization terminated successfully.\n",
            "         Current function value: 0.682441\n",
            "         Iterations 4\n"
          ],
          "name": "stdout"
        },
        {
          "output_type": "execute_result",
          "data": {
            "text/html": [
              "<table class=\"simpletable\">\n",
              "<caption>Logit Regression Results</caption>\n",
              "<tr>\n",
              "  <th>Dep. Variable:</th>       <td>Direction</td>    <th>  No. Observations:  </th>  <td>  1089</td> \n",
              "</tr>\n",
              "<tr>\n",
              "  <th>Model:</th>                 <td>Logit</td>      <th>  Df Residuals:      </th>  <td>  1082</td> \n",
              "</tr>\n",
              "<tr>\n",
              "  <th>Method:</th>                 <td>MLE</td>       <th>  Df Model:          </th>  <td>     6</td> \n",
              "</tr>\n",
              "<tr>\n",
              "  <th>Date:</th>            <td>Thu, 12 Aug 2021</td> <th>  Pseudo R-squ.:     </th> <td>0.006580</td>\n",
              "</tr>\n",
              "<tr>\n",
              "  <th>Time:</th>                <td>19:59:17</td>     <th>  Log-Likelihood:    </th> <td> -743.18</td>\n",
              "</tr>\n",
              "<tr>\n",
              "  <th>converged:</th>             <td>True</td>       <th>  LL-Null:           </th> <td> -748.10</td>\n",
              "</tr>\n",
              "<tr>\n",
              "  <th>Covariance Type:</th>     <td>nonrobust</td>    <th>  LLR p-value:       </th>  <td>0.1313</td> \n",
              "</tr>\n",
              "</table>\n",
              "<table class=\"simpletable\">\n",
              "<tr>\n",
              "      <td></td>         <th>coef</th>     <th>std err</th>      <th>z</th>      <th>P>|z|</th>  <th>[0.025</th>    <th>0.975]</th>  \n",
              "</tr>\n",
              "<tr>\n",
              "  <th>Intercept</th> <td>    0.2669</td> <td>    0.086</td> <td>    3.106</td> <td> 0.002</td> <td>    0.098</td> <td>    0.435</td>\n",
              "</tr>\n",
              "<tr>\n",
              "  <th>Lag1</th>      <td>   -0.0413</td> <td>    0.026</td> <td>   -1.563</td> <td> 0.118</td> <td>   -0.093</td> <td>    0.010</td>\n",
              "</tr>\n",
              "<tr>\n",
              "  <th>Lag2</th>      <td>    0.0584</td> <td>    0.027</td> <td>    2.175</td> <td> 0.030</td> <td>    0.006</td> <td>    0.111</td>\n",
              "</tr>\n",
              "<tr>\n",
              "  <th>Lag3</th>      <td>   -0.0161</td> <td>    0.027</td> <td>   -0.602</td> <td> 0.547</td> <td>   -0.068</td> <td>    0.036</td>\n",
              "</tr>\n",
              "<tr>\n",
              "  <th>Lag4</th>      <td>   -0.0278</td> <td>    0.026</td> <td>   -1.050</td> <td> 0.294</td> <td>   -0.080</td> <td>    0.024</td>\n",
              "</tr>\n",
              "<tr>\n",
              "  <th>Lag5</th>      <td>   -0.0145</td> <td>    0.026</td> <td>   -0.549</td> <td> 0.583</td> <td>   -0.066</td> <td>    0.037</td>\n",
              "</tr>\n",
              "<tr>\n",
              "  <th>Volume</th>    <td>   -0.0227</td> <td>    0.037</td> <td>   -0.616</td> <td> 0.538</td> <td>   -0.095</td> <td>    0.050</td>\n",
              "</tr>\n",
              "</table>"
            ],
            "text/plain": [
              "<class 'statsmodels.iolib.summary.Summary'>\n",
              "\"\"\"\n",
              "                           Logit Regression Results                           \n",
              "==============================================================================\n",
              "Dep. Variable:              Direction   No. Observations:                 1089\n",
              "Model:                          Logit   Df Residuals:                     1082\n",
              "Method:                           MLE   Df Model:                            6\n",
              "Date:                Thu, 12 Aug 2021   Pseudo R-squ.:                0.006580\n",
              "Time:                        19:59:17   Log-Likelihood:                -743.18\n",
              "converged:                       True   LL-Null:                       -748.10\n",
              "Covariance Type:            nonrobust   LLR p-value:                    0.1313\n",
              "==============================================================================\n",
              "                 coef    std err          z      P>|z|      [0.025      0.975]\n",
              "------------------------------------------------------------------------------\n",
              "Intercept      0.2669      0.086      3.106      0.002       0.098       0.435\n",
              "Lag1          -0.0413      0.026     -1.563      0.118      -0.093       0.010\n",
              "Lag2           0.0584      0.027      2.175      0.030       0.006       0.111\n",
              "Lag3          -0.0161      0.027     -0.602      0.547      -0.068       0.036\n",
              "Lag4          -0.0278      0.026     -1.050      0.294      -0.080       0.024\n",
              "Lag5          -0.0145      0.026     -0.549      0.583      -0.066       0.037\n",
              "Volume        -0.0227      0.037     -0.616      0.538      -0.095       0.050\n",
              "==============================================================================\n",
              "\"\"\""
            ]
          },
          "metadata": {
            "tags": []
          },
          "execution_count": 75
        }
      ]
    },
    {
      "cell_type": "code",
      "metadata": {
        "colab": {
          "base_uri": "https://localhost:8080/",
          "height": 299
        },
        "id": "GUqJRnbo8sBe",
        "outputId": "ae5eb44b-8c9c-46a0-d1cd-551f7ae6ab5c"
      },
      "source": [
        "results = smf.logit('Direction ~ Lag2', data=weekly).fit()\n",
        "results.summary()"
      ],
      "execution_count": 76,
      "outputs": [
        {
          "output_type": "stream",
          "text": [
            "Optimization terminated successfully.\n",
            "         Current function value: 0.684306\n",
            "         Iterations 4\n"
          ],
          "name": "stdout"
        },
        {
          "output_type": "execute_result",
          "data": {
            "text/html": [
              "<table class=\"simpletable\">\n",
              "<caption>Logit Regression Results</caption>\n",
              "<tr>\n",
              "  <th>Dep. Variable:</th>       <td>Direction</td>    <th>  No. Observations:  </th>  <td>  1089</td> \n",
              "</tr>\n",
              "<tr>\n",
              "  <th>Model:</th>                 <td>Logit</td>      <th>  Df Residuals:      </th>  <td>  1087</td> \n",
              "</tr>\n",
              "<tr>\n",
              "  <th>Method:</th>                 <td>MLE</td>       <th>  Df Model:          </th>  <td>     1</td> \n",
              "</tr>\n",
              "<tr>\n",
              "  <th>Date:</th>            <td>Thu, 12 Aug 2021</td> <th>  Pseudo R-squ.:     </th> <td>0.003866</td>\n",
              "</tr>\n",
              "<tr>\n",
              "  <th>Time:</th>                <td>19:59:55</td>     <th>  Log-Likelihood:    </th> <td> -745.21</td>\n",
              "</tr>\n",
              "<tr>\n",
              "  <th>converged:</th>             <td>True</td>       <th>  LL-Null:           </th> <td> -748.10</td>\n",
              "</tr>\n",
              "<tr>\n",
              "  <th>Covariance Type:</th>     <td>nonrobust</td>    <th>  LLR p-value:       </th>  <td>0.01617</td>\n",
              "</tr>\n",
              "</table>\n",
              "<table class=\"simpletable\">\n",
              "<tr>\n",
              "      <td></td>         <th>coef</th>     <th>std err</th>      <th>z</th>      <th>P>|z|</th>  <th>[0.025</th>    <th>0.975]</th>  \n",
              "</tr>\n",
              "<tr>\n",
              "  <th>Intercept</th> <td>    0.2147</td> <td>    0.061</td> <td>    3.507</td> <td> 0.000</td> <td>    0.095</td> <td>    0.335</td>\n",
              "</tr>\n",
              "<tr>\n",
              "  <th>Lag2</th>      <td>    0.0628</td> <td>    0.026</td> <td>    2.382</td> <td> 0.017</td> <td>    0.011</td> <td>    0.114</td>\n",
              "</tr>\n",
              "</table>"
            ],
            "text/plain": [
              "<class 'statsmodels.iolib.summary.Summary'>\n",
              "\"\"\"\n",
              "                           Logit Regression Results                           \n",
              "==============================================================================\n",
              "Dep. Variable:              Direction   No. Observations:                 1089\n",
              "Model:                          Logit   Df Residuals:                     1087\n",
              "Method:                           MLE   Df Model:                            1\n",
              "Date:                Thu, 12 Aug 2021   Pseudo R-squ.:                0.003866\n",
              "Time:                        19:59:55   Log-Likelihood:                -745.21\n",
              "converged:                       True   LL-Null:                       -748.10\n",
              "Covariance Type:            nonrobust   LLR p-value:                   0.01617\n",
              "==============================================================================\n",
              "                 coef    std err          z      P>|z|      [0.025      0.975]\n",
              "------------------------------------------------------------------------------\n",
              "Intercept      0.2147      0.061      3.507      0.000       0.095       0.335\n",
              "Lag2           0.0628      0.026      2.382      0.017       0.011       0.114\n",
              "==============================================================================\n",
              "\"\"\""
            ]
          },
          "metadata": {
            "tags": []
          },
          "execution_count": 76
        }
      ]
    },
    {
      "cell_type": "code",
      "metadata": {
        "id": "Ew3qV9Z480L7"
      },
      "source": [
        "predictions = np.where(results.predict(weekly) > .5, 1, 0)"
      ],
      "execution_count": 77,
      "outputs": []
    },
    {
      "cell_type": "code",
      "metadata": {
        "colab": {
          "base_uri": "https://localhost:8080/"
        },
        "id": "C-zU1ZBj86Fl",
        "outputId": "e33e05c8-0008-4e75-8b56-f91f4b38dbce"
      },
      "source": [
        "confusion_matrix(weekly['Direction'], predictions)"
      ],
      "execution_count": 78,
      "outputs": [
        {
          "output_type": "execute_result",
          "data": {
            "text/plain": [
              "array([[ 33, 451],\n",
              "       [ 26, 579]])"
            ]
          },
          "metadata": {
            "tags": []
          },
          "execution_count": 78
        }
      ]
    },
    {
      "cell_type": "code",
      "metadata": {
        "colab": {
          "base_uri": "https://localhost:8080/"
        },
        "id": "hA3FOIjY89Lr",
        "outputId": "f60a7346-5f13-4dd0-c132-bb79990e16d9"
      },
      "source": [
        "451/1030"
      ],
      "execution_count": 79,
      "outputs": [
        {
          "output_type": "execute_result",
          "data": {
            "text/plain": [
              "0.43786407766990293"
            ]
          },
          "metadata": {
            "tags": []
          },
          "execution_count": 79
        }
      ]
    },
    {
      "cell_type": "code",
      "metadata": {
        "colab": {
          "base_uri": "https://localhost:8080/"
        },
        "id": "W7kVLg0_9AAF",
        "outputId": "b5c0e5ad-dd70-409c-c043-bbe673230097"
      },
      "source": [
        "weekly['Direction'].mean()"
      ],
      "execution_count": 80,
      "outputs": [
        {
          "output_type": "execute_result",
          "data": {
            "text/plain": [
              "0.5555555555555556"
            ]
          },
          "metadata": {
            "tags": []
          },
          "execution_count": 80
        }
      ]
    },
    {
      "cell_type": "markdown",
      "metadata": {
        "id": "uKI6H44V9CmH"
      },
      "source": [
        "The default prediction is Up - about 95% of the predictions are up and it actually gets 56.2% correct but that's only slightly higher than the 55.6% total up days. "
      ]
    },
    {
      "cell_type": "code",
      "metadata": {
        "id": "aIRQI_Yd9Nww"
      },
      "source": [
        "# Use sklearn for the rest of the problems \n",
        "year_bool = weekly['Year'] < 2009\n",
        "weekly['ones'] = 1\n",
        "X_train = weekly[year_bool][['ones', 'Lag2']].values\n",
        "X_test = weekly[~year_bool][['ones', 'Lag2']].values\n",
        "y_train = weekly[year_bool]['Direction'].values\n",
        "y_test = weekly[~year_bool]['Direction'].values"
      ],
      "execution_count": 84,
      "outputs": []
    },
    {
      "cell_type": "code",
      "metadata": {
        "colab": {
          "base_uri": "https://localhost:8080/"
        },
        "id": "u9Ry3hbN9r9j",
        "outputId": "59d70506-e0bd-4094-ea26-1f44250e213a"
      },
      "source": [
        "lr = LogisticRegression()\n",
        "lr.fit(X_train, y_train)"
      ],
      "execution_count": 85,
      "outputs": [
        {
          "output_type": "execute_result",
          "data": {
            "text/plain": [
              "LogisticRegression(C=1.0, class_weight=None, dual=False, fit_intercept=True,\n",
              "                   intercept_scaling=1, l1_ratio=None, max_iter=100,\n",
              "                   multi_class='auto', n_jobs=None, penalty='l2',\n",
              "                   random_state=None, solver='lbfgs', tol=0.0001, verbose=0,\n",
              "                   warm_start=False)"
            ]
          },
          "metadata": {
            "tags": []
          },
          "execution_count": 85
        }
      ]
    },
    {
      "cell_type": "code",
      "metadata": {
        "colab": {
          "base_uri": "https://localhost:8080/"
        },
        "id": "-hSGzrhd9xy9",
        "outputId": "82feb67d-0682-4ae3-f3b8-e4dd8b163f08"
      },
      "source": [
        "confusion_matrix(y_test, lr.predict(X_test))"
      ],
      "execution_count": 86,
      "outputs": [
        {
          "output_type": "execute_result",
          "data": {
            "text/plain": [
              "array([[ 9, 34],\n",
              "       [ 5, 56]])"
            ]
          },
          "metadata": {
            "tags": []
          },
          "execution_count": 86
        }
      ]
    },
    {
      "cell_type": "code",
      "metadata": {
        "colab": {
          "base_uri": "https://localhost:8080/"
        },
        "id": "7u2fHa9-93SC",
        "outputId": "2d1e565c-f461-43f7-b40c-6bda5b40538a"
      },
      "source": [
        "# Use LDA\n",
        "lda = LinearDiscriminantAnalysis()\n",
        "lda.fit(X_train, y_train)\n",
        "confusion_matrix(y_test, lda.predict(X_test))"
      ],
      "execution_count": 88,
      "outputs": [
        {
          "output_type": "execute_result",
          "data": {
            "text/plain": [
              "array([[ 9, 34],\n",
              "       [ 5, 56]])"
            ]
          },
          "metadata": {
            "tags": []
          },
          "execution_count": 88
        }
      ]
    },
    {
      "cell_type": "code",
      "metadata": {
        "colab": {
          "base_uri": "https://localhost:8080/"
        },
        "id": "ItMUc6Em-B_5",
        "outputId": "44ff97d6-bc5e-41b8-b398-a99336435ad6"
      },
      "source": [
        "# Use QDA\n",
        "qda = QuadraticDiscriminantAnalysis()\n",
        "qda.fit(X_train, y_train)\n",
        "confusion_matrix(y_test, qda.predict(X_test))"
      ],
      "execution_count": 90,
      "outputs": [
        {
          "output_type": "stream",
          "text": [
            "/usr/local/lib/python3.7/dist-packages/sklearn/discriminant_analysis.py:691: UserWarning: Variables are collinear\n",
            "  warnings.warn(\"Variables are collinear\")\n",
            "/usr/local/lib/python3.7/dist-packages/sklearn/discriminant_analysis.py:715: RuntimeWarning: divide by zero encountered in power\n",
            "  X2 = np.dot(Xm, R * (S ** (-0.5)))\n",
            "/usr/local/lib/python3.7/dist-packages/sklearn/discriminant_analysis.py:715: RuntimeWarning: invalid value encountered in multiply\n",
            "  X2 = np.dot(Xm, R * (S ** (-0.5)))\n",
            "/usr/local/lib/python3.7/dist-packages/sklearn/discriminant_analysis.py:718: RuntimeWarning: divide by zero encountered in log\n",
            "  u = np.asarray([np.sum(np.log(s)) for s in self.scalings_])\n"
          ],
          "name": "stderr"
        },
        {
          "output_type": "execute_result",
          "data": {
            "text/plain": [
              "array([[43,  0],\n",
              "       [61,  0]])"
            ]
          },
          "metadata": {
            "tags": []
          },
          "execution_count": 90
        }
      ]
    },
    {
      "cell_type": "code",
      "metadata": {
        "colab": {
          "base_uri": "https://localhost:8080/"
        },
        "id": "eNTO05ZJ-WyD",
        "outputId": "5657214c-5925-42f2-93b4-c4295fb163b7"
      },
      "source": [
        "# Use KNN\n",
        "knn = KNeighborsClassifier(n_neighbors=1)\n",
        "knn.fit(X_train, y_train)\n",
        "confusion_matrix(y_test, knn.predict(X_test))"
      ],
      "execution_count": 91,
      "outputs": [
        {
          "output_type": "execute_result",
          "data": {
            "text/plain": [
              "array([[21, 22],\n",
              "       [31, 30]])"
            ]
          },
          "metadata": {
            "tags": []
          },
          "execution_count": 91
        }
      ]
    },
    {
      "cell_type": "markdown",
      "metadata": {
        "id": "lQ_9lKUS-lNL"
      },
      "source": [
        "## **Question 11**"
      ]
    },
    {
      "cell_type": "code",
      "metadata": {
        "colab": {
          "base_uri": "https://localhost:8080/",
          "height": 204
        },
        "id": "9cGNte-E-nem",
        "outputId": "91f705f3-a5dc-4093-f74a-caf1b9c8b0fb"
      },
      "source": [
        "url = \"https://raw.githubusercontent.com/emredjan/ISL-python/master/datasets/Auto.csv\"\n",
        "auto = pd.read_csv(url)\n",
        "auto.head()"
      ],
      "execution_count": 92,
      "outputs": [
        {
          "output_type": "execute_result",
          "data": {
            "text/html": [
              "<div>\n",
              "<style scoped>\n",
              "    .dataframe tbody tr th:only-of-type {\n",
              "        vertical-align: middle;\n",
              "    }\n",
              "\n",
              "    .dataframe tbody tr th {\n",
              "        vertical-align: top;\n",
              "    }\n",
              "\n",
              "    .dataframe thead th {\n",
              "        text-align: right;\n",
              "    }\n",
              "</style>\n",
              "<table border=\"1\" class=\"dataframe\">\n",
              "  <thead>\n",
              "    <tr style=\"text-align: right;\">\n",
              "      <th></th>\n",
              "      <th>mpg</th>\n",
              "      <th>cylinders</th>\n",
              "      <th>displacement</th>\n",
              "      <th>horsepower</th>\n",
              "      <th>weight</th>\n",
              "      <th>acceleration</th>\n",
              "      <th>year</th>\n",
              "      <th>origin</th>\n",
              "      <th>name</th>\n",
              "    </tr>\n",
              "  </thead>\n",
              "  <tbody>\n",
              "    <tr>\n",
              "      <th>0</th>\n",
              "      <td>18.0</td>\n",
              "      <td>8</td>\n",
              "      <td>307.0</td>\n",
              "      <td>130</td>\n",
              "      <td>3504</td>\n",
              "      <td>12.0</td>\n",
              "      <td>70</td>\n",
              "      <td>1</td>\n",
              "      <td>chevrolet chevelle malibu</td>\n",
              "    </tr>\n",
              "    <tr>\n",
              "      <th>1</th>\n",
              "      <td>15.0</td>\n",
              "      <td>8</td>\n",
              "      <td>350.0</td>\n",
              "      <td>165</td>\n",
              "      <td>3693</td>\n",
              "      <td>11.5</td>\n",
              "      <td>70</td>\n",
              "      <td>1</td>\n",
              "      <td>buick skylark 320</td>\n",
              "    </tr>\n",
              "    <tr>\n",
              "      <th>2</th>\n",
              "      <td>18.0</td>\n",
              "      <td>8</td>\n",
              "      <td>318.0</td>\n",
              "      <td>150</td>\n",
              "      <td>3436</td>\n",
              "      <td>11.0</td>\n",
              "      <td>70</td>\n",
              "      <td>1</td>\n",
              "      <td>plymouth satellite</td>\n",
              "    </tr>\n",
              "    <tr>\n",
              "      <th>3</th>\n",
              "      <td>16.0</td>\n",
              "      <td>8</td>\n",
              "      <td>304.0</td>\n",
              "      <td>150</td>\n",
              "      <td>3433</td>\n",
              "      <td>12.0</td>\n",
              "      <td>70</td>\n",
              "      <td>1</td>\n",
              "      <td>amc rebel sst</td>\n",
              "    </tr>\n",
              "    <tr>\n",
              "      <th>4</th>\n",
              "      <td>17.0</td>\n",
              "      <td>8</td>\n",
              "      <td>302.0</td>\n",
              "      <td>140</td>\n",
              "      <td>3449</td>\n",
              "      <td>10.5</td>\n",
              "      <td>70</td>\n",
              "      <td>1</td>\n",
              "      <td>ford torino</td>\n",
              "    </tr>\n",
              "  </tbody>\n",
              "</table>\n",
              "</div>"
            ],
            "text/plain": [
              "    mpg  cylinders  displacement  ... year  origin                       name\n",
              "0  18.0          8         307.0  ...   70       1  chevrolet chevelle malibu\n",
              "1  15.0          8         350.0  ...   70       1          buick skylark 320\n",
              "2  18.0          8         318.0  ...   70       1         plymouth satellite\n",
              "3  16.0          8         304.0  ...   70       1              amc rebel sst\n",
              "4  17.0          8         302.0  ...   70       1                ford torino\n",
              "\n",
              "[5 rows x 9 columns]"
            ]
          },
          "metadata": {
            "tags": []
          },
          "execution_count": 92
        }
      ]
    },
    {
      "cell_type": "code",
      "metadata": {
        "id": "zrJmSb3--zTi"
      },
      "source": [
        "auto['mpg01'] = np.where(auto['mpg'] > auto['mpg'].median(), 1, 0)"
      ],
      "execution_count": 93,
      "outputs": []
    },
    {
      "cell_type": "code",
      "metadata": {
        "colab": {
          "base_uri": "https://localhost:8080/",
          "height": 297
        },
        "id": "vkDtg-09-6SV",
        "outputId": "fc4a805b-2f34-4028-ea65-232f48e5c506"
      },
      "source": [
        "auto.corr()"
      ],
      "execution_count": 94,
      "outputs": [
        {
          "output_type": "execute_result",
          "data": {
            "text/html": [
              "<div>\n",
              "<style scoped>\n",
              "    .dataframe tbody tr th:only-of-type {\n",
              "        vertical-align: middle;\n",
              "    }\n",
              "\n",
              "    .dataframe tbody tr th {\n",
              "        vertical-align: top;\n",
              "    }\n",
              "\n",
              "    .dataframe thead th {\n",
              "        text-align: right;\n",
              "    }\n",
              "</style>\n",
              "<table border=\"1\" class=\"dataframe\">\n",
              "  <thead>\n",
              "    <tr style=\"text-align: right;\">\n",
              "      <th></th>\n",
              "      <th>mpg</th>\n",
              "      <th>cylinders</th>\n",
              "      <th>displacement</th>\n",
              "      <th>weight</th>\n",
              "      <th>acceleration</th>\n",
              "      <th>year</th>\n",
              "      <th>origin</th>\n",
              "      <th>mpg01</th>\n",
              "    </tr>\n",
              "  </thead>\n",
              "  <tbody>\n",
              "    <tr>\n",
              "      <th>mpg</th>\n",
              "      <td>1.000000</td>\n",
              "      <td>-0.776260</td>\n",
              "      <td>-0.804443</td>\n",
              "      <td>-0.831739</td>\n",
              "      <td>0.422297</td>\n",
              "      <td>0.581469</td>\n",
              "      <td>0.563698</td>\n",
              "      <td>0.838239</td>\n",
              "    </tr>\n",
              "    <tr>\n",
              "      <th>cylinders</th>\n",
              "      <td>-0.776260</td>\n",
              "      <td>1.000000</td>\n",
              "      <td>0.950920</td>\n",
              "      <td>0.897017</td>\n",
              "      <td>-0.504061</td>\n",
              "      <td>-0.346717</td>\n",
              "      <td>-0.564972</td>\n",
              "      <td>-0.740327</td>\n",
              "    </tr>\n",
              "    <tr>\n",
              "      <th>displacement</th>\n",
              "      <td>-0.804443</td>\n",
              "      <td>0.950920</td>\n",
              "      <td>1.000000</td>\n",
              "      <td>0.933104</td>\n",
              "      <td>-0.544162</td>\n",
              "      <td>-0.369804</td>\n",
              "      <td>-0.610664</td>\n",
              "      <td>-0.738607</td>\n",
              "    </tr>\n",
              "    <tr>\n",
              "      <th>weight</th>\n",
              "      <td>-0.831739</td>\n",
              "      <td>0.897017</td>\n",
              "      <td>0.933104</td>\n",
              "      <td>1.000000</td>\n",
              "      <td>-0.419502</td>\n",
              "      <td>-0.307900</td>\n",
              "      <td>-0.581265</td>\n",
              "      <td>-0.745734</td>\n",
              "    </tr>\n",
              "    <tr>\n",
              "      <th>acceleration</th>\n",
              "      <td>0.422297</td>\n",
              "      <td>-0.504061</td>\n",
              "      <td>-0.544162</td>\n",
              "      <td>-0.419502</td>\n",
              "      <td>1.000000</td>\n",
              "      <td>0.282901</td>\n",
              "      <td>0.210084</td>\n",
              "      <td>0.322629</td>\n",
              "    </tr>\n",
              "    <tr>\n",
              "      <th>year</th>\n",
              "      <td>0.581469</td>\n",
              "      <td>-0.346717</td>\n",
              "      <td>-0.369804</td>\n",
              "      <td>-0.307900</td>\n",
              "      <td>0.282901</td>\n",
              "      <td>1.000000</td>\n",
              "      <td>0.184314</td>\n",
              "      <td>0.454108</td>\n",
              "    </tr>\n",
              "    <tr>\n",
              "      <th>origin</th>\n",
              "      <td>0.563698</td>\n",
              "      <td>-0.564972</td>\n",
              "      <td>-0.610664</td>\n",
              "      <td>-0.581265</td>\n",
              "      <td>0.210084</td>\n",
              "      <td>0.184314</td>\n",
              "      <td>1.000000</td>\n",
              "      <td>0.511393</td>\n",
              "    </tr>\n",
              "    <tr>\n",
              "      <th>mpg01</th>\n",
              "      <td>0.838239</td>\n",
              "      <td>-0.740327</td>\n",
              "      <td>-0.738607</td>\n",
              "      <td>-0.745734</td>\n",
              "      <td>0.322629</td>\n",
              "      <td>0.454108</td>\n",
              "      <td>0.511393</td>\n",
              "      <td>1.000000</td>\n",
              "    </tr>\n",
              "  </tbody>\n",
              "</table>\n",
              "</div>"
            ],
            "text/plain": [
              "                   mpg  cylinders  displacement  ...      year    origin     mpg01\n",
              "mpg           1.000000  -0.776260     -0.804443  ...  0.581469  0.563698  0.838239\n",
              "cylinders    -0.776260   1.000000      0.950920  ... -0.346717 -0.564972 -0.740327\n",
              "displacement -0.804443   0.950920      1.000000  ... -0.369804 -0.610664 -0.738607\n",
              "weight       -0.831739   0.897017      0.933104  ... -0.307900 -0.581265 -0.745734\n",
              "acceleration  0.422297  -0.504061     -0.544162  ...  0.282901  0.210084  0.322629\n",
              "year          0.581469  -0.346717     -0.369804  ...  1.000000  0.184314  0.454108\n",
              "origin        0.563698  -0.564972     -0.610664  ...  0.184314  1.000000  0.511393\n",
              "mpg01         0.838239  -0.740327     -0.738607  ...  0.454108  0.511393  1.000000\n",
              "\n",
              "[8 rows x 8 columns]"
            ]
          },
          "metadata": {
            "tags": []
          },
          "execution_count": 94
        }
      ]
    },
    {
      "cell_type": "code",
      "metadata": {
        "id": "FJjcwuVj_RWi"
      },
      "source": [
        "from sklearn.model_selection import train_test_split\n",
        "from sklearn.metrics import accuracy_score"
      ],
      "execution_count": 99,
      "outputs": []
    },
    {
      "cell_type": "code",
      "metadata": {
        "id": "QhAtOIX3_B3K"
      },
      "source": [
        "X = auto[['cylinders', 'origin']].values\n",
        "y = auto['mpg01'].values\n",
        "X_train, X_test, y_train, y_test = train_test_split(X,y, random_state=1)"
      ],
      "execution_count": 101,
      "outputs": []
    },
    {
      "cell_type": "code",
      "metadata": {
        "colab": {
          "base_uri": "https://localhost:8080/"
        },
        "id": "5yube5i2_vGJ",
        "outputId": "5fef348c-15cc-4469-dcdc-4b531163418e"
      },
      "source": [
        "lr = LogisticRegression()\n",
        "lr.fit(X_train, y_train)\n",
        "accuracy_score(y_test, lr.predict(X_test))"
      ],
      "execution_count": 102,
      "outputs": [
        {
          "output_type": "execute_result",
          "data": {
            "text/plain": [
              "0.89"
            ]
          },
          "metadata": {
            "tags": []
          },
          "execution_count": 102
        }
      ]
    },
    {
      "cell_type": "code",
      "metadata": {
        "id": "5TVB84uo_2ay"
      },
      "source": [
        "X = auto[['cylinders', 'origin', 'year', 'acceleration']].values\n",
        "y = auto['mpg01'].values\n",
        "X_train, X_test, y_train, y_test = train_test_split(X, y, random_state=1)"
      ],
      "execution_count": 103,
      "outputs": []
    },
    {
      "cell_type": "code",
      "metadata": {
        "colab": {
          "base_uri": "https://localhost:8080/"
        },
        "id": "5vktepBpAHum",
        "outputId": "4a07ce7f-8c04-4c6c-c477-495fe6a49c62"
      },
      "source": [
        "lr = LogisticRegression()\n",
        "lr.fit(X_train, y_train)\n",
        "accuracy_score(y_test, lr.predict(X_test))"
      ],
      "execution_count": 104,
      "outputs": [
        {
          "output_type": "execute_result",
          "data": {
            "text/plain": [
              "0.9"
            ]
          },
          "metadata": {
            "tags": []
          },
          "execution_count": 104
        }
      ]
    },
    {
      "cell_type": "code",
      "metadata": {
        "colab": {
          "base_uri": "https://localhost:8080/"
        },
        "id": "Ed2rXVSLASi6",
        "outputId": "997609df-3f89-4b91-c325-a1b894a4eb27"
      },
      "source": [
        "X = auto[['cylinders', 'origin', 'year', 'acceleration', 'weight']].values\n",
        "y = auto['mpg01'].values\n",
        "X_train, X_test, y_train, y_test = train_test_split(X, y, random_state=1)\n",
        "\n",
        "lr=LogisticRegression()\n",
        "lr.fit(X_train, y_train)\n",
        "accuracy_score(y_test, lr.predict(X_test))"
      ],
      "execution_count": 115,
      "outputs": [
        {
          "output_type": "execute_result",
          "data": {
            "text/plain": [
              "0.89"
            ]
          },
          "metadata": {
            "tags": []
          },
          "execution_count": 115
        }
      ]
    },
    {
      "cell_type": "code",
      "metadata": {
        "colab": {
          "base_uri": "https://localhost:8080/"
        },
        "id": "eOx2a0K9CAj_",
        "outputId": "a035ef3f-2ca1-439b-9603-1afb8fa48acd"
      },
      "source": [
        "lda = LinearDiscriminantAnalysis()\n",
        "lda.fit(X_train, y_train)\n",
        "accuracy_score(y_test, lda.predict(X_test))"
      ],
      "execution_count": 113,
      "outputs": [
        {
          "output_type": "execute_result",
          "data": {
            "text/plain": [
              "0.92"
            ]
          },
          "metadata": {
            "tags": []
          },
          "execution_count": 113
        }
      ]
    },
    {
      "cell_type": "code",
      "metadata": {
        "colab": {
          "base_uri": "https://localhost:8080/"
        },
        "id": "EGSKivhrCJyd",
        "outputId": "19de10dc-9e64-429e-a365-a05201b15e03"
      },
      "source": [
        "qda = QuadraticDiscriminantAnalysis()\n",
        "qda.fit(X_train, y_train)\n",
        "accuracy_score(y_test, qda.predict(X_test))"
      ],
      "execution_count": 116,
      "outputs": [
        {
          "output_type": "execute_result",
          "data": {
            "text/plain": [
              "0.89"
            ]
          },
          "metadata": {
            "tags": []
          },
          "execution_count": 116
        }
      ]
    },
    {
      "cell_type": "code",
      "metadata": {
        "colab": {
          "base_uri": "https://localhost:8080/"
        },
        "id": "mBfBHdjrCl1Q",
        "outputId": "556529ab-f4d8-46dd-f184-e589ca46d273"
      },
      "source": [
        "# Looks like K=8 yeilds the best results \n",
        "\n",
        "for k in range (1,51):\n",
        "  knn = KNeighborsClassifier(n_neighbors=k)\n",
        "  knn.fit(X_train, y_train)\n",
        "  accuracy = accuracy_score(y_test, knn.predict(X_test))\n",
        "  print('With K={} accuracy is {:.3f}'.format(k, accuracy))"
      ],
      "execution_count": 118,
      "outputs": [
        {
          "output_type": "stream",
          "text": [
            "With K=1 accuracy is 0.860\n",
            "With K=2 accuracy is 0.830\n",
            "With K=3 accuracy is 0.880\n",
            "With K=4 accuracy is 0.860\n",
            "With K=5 accuracy is 0.880\n",
            "With K=6 accuracy is 0.900\n",
            "With K=7 accuracy is 0.890\n",
            "With K=8 accuracy is 0.900\n",
            "With K=9 accuracy is 0.890\n",
            "With K=10 accuracy is 0.890\n",
            "With K=11 accuracy is 0.890\n",
            "With K=12 accuracy is 0.890\n",
            "With K=13 accuracy is 0.880\n",
            "With K=14 accuracy is 0.880\n",
            "With K=15 accuracy is 0.880\n",
            "With K=16 accuracy is 0.880\n",
            "With K=17 accuracy is 0.880\n",
            "With K=18 accuracy is 0.880\n",
            "With K=19 accuracy is 0.890\n",
            "With K=20 accuracy is 0.900\n",
            "With K=21 accuracy is 0.890\n",
            "With K=22 accuracy is 0.890\n",
            "With K=23 accuracy is 0.890\n",
            "With K=24 accuracy is 0.890\n",
            "With K=25 accuracy is 0.890\n",
            "With K=26 accuracy is 0.890\n",
            "With K=27 accuracy is 0.880\n",
            "With K=28 accuracy is 0.890\n",
            "With K=29 accuracy is 0.880\n",
            "With K=30 accuracy is 0.890\n",
            "With K=31 accuracy is 0.880\n",
            "With K=32 accuracy is 0.890\n",
            "With K=33 accuracy is 0.890\n",
            "With K=34 accuracy is 0.890\n",
            "With K=35 accuracy is 0.890\n",
            "With K=36 accuracy is 0.890\n",
            "With K=37 accuracy is 0.880\n",
            "With K=38 accuracy is 0.880\n",
            "With K=39 accuracy is 0.870\n",
            "With K=40 accuracy is 0.870\n",
            "With K=41 accuracy is 0.870\n",
            "With K=42 accuracy is 0.870\n",
            "With K=43 accuracy is 0.870\n",
            "With K=44 accuracy is 0.870\n",
            "With K=45 accuracy is 0.870\n",
            "With K=46 accuracy is 0.870\n",
            "With K=47 accuracy is 0.870\n",
            "With K=48 accuracy is 0.870\n",
            "With K=49 accuracy is 0.870\n",
            "With K=50 accuracy is 0.870\n"
          ],
          "name": "stdout"
        }
      ]
    },
    {
      "cell_type": "markdown",
      "metadata": {
        "id": "8ThI7BdPDC9X"
      },
      "source": [
        "## **Question 13**"
      ]
    },
    {
      "cell_type": "code",
      "metadata": {
        "colab": {
          "base_uri": "https://localhost:8080/",
          "height": 204
        },
        "id": "L65jWT2XDClS",
        "outputId": "be98cb57-793a-4d29-80ee-f2050c5631c5"
      },
      "source": [
        "url = \"https://raw.githubusercontent.com/emredjan/ISL-python/master/datasets/Boston.csv\"\n",
        "boston = pd.read_csv(url)\n",
        "boston['crim01'] = np.where(boston['crim'] > boston['crim'].median(), 1, 0)\n",
        "boston.head()"
      ],
      "execution_count": 119,
      "outputs": [
        {
          "output_type": "execute_result",
          "data": {
            "text/html": [
              "<div>\n",
              "<style scoped>\n",
              "    .dataframe tbody tr th:only-of-type {\n",
              "        vertical-align: middle;\n",
              "    }\n",
              "\n",
              "    .dataframe tbody tr th {\n",
              "        vertical-align: top;\n",
              "    }\n",
              "\n",
              "    .dataframe thead th {\n",
              "        text-align: right;\n",
              "    }\n",
              "</style>\n",
              "<table border=\"1\" class=\"dataframe\">\n",
              "  <thead>\n",
              "    <tr style=\"text-align: right;\">\n",
              "      <th></th>\n",
              "      <th>Unnamed: 0</th>\n",
              "      <th>crim</th>\n",
              "      <th>zn</th>\n",
              "      <th>indus</th>\n",
              "      <th>chas</th>\n",
              "      <th>nox</th>\n",
              "      <th>rm</th>\n",
              "      <th>age</th>\n",
              "      <th>dis</th>\n",
              "      <th>rad</th>\n",
              "      <th>tax</th>\n",
              "      <th>ptratio</th>\n",
              "      <th>black</th>\n",
              "      <th>lstat</th>\n",
              "      <th>medv</th>\n",
              "      <th>crim01</th>\n",
              "    </tr>\n",
              "  </thead>\n",
              "  <tbody>\n",
              "    <tr>\n",
              "      <th>0</th>\n",
              "      <td>1</td>\n",
              "      <td>0.00632</td>\n",
              "      <td>18.0</td>\n",
              "      <td>2.31</td>\n",
              "      <td>0</td>\n",
              "      <td>0.538</td>\n",
              "      <td>6.575</td>\n",
              "      <td>65.2</td>\n",
              "      <td>4.0900</td>\n",
              "      <td>1</td>\n",
              "      <td>296</td>\n",
              "      <td>15.3</td>\n",
              "      <td>396.90</td>\n",
              "      <td>4.98</td>\n",
              "      <td>24.0</td>\n",
              "      <td>0</td>\n",
              "    </tr>\n",
              "    <tr>\n",
              "      <th>1</th>\n",
              "      <td>2</td>\n",
              "      <td>0.02731</td>\n",
              "      <td>0.0</td>\n",
              "      <td>7.07</td>\n",
              "      <td>0</td>\n",
              "      <td>0.469</td>\n",
              "      <td>6.421</td>\n",
              "      <td>78.9</td>\n",
              "      <td>4.9671</td>\n",
              "      <td>2</td>\n",
              "      <td>242</td>\n",
              "      <td>17.8</td>\n",
              "      <td>396.90</td>\n",
              "      <td>9.14</td>\n",
              "      <td>21.6</td>\n",
              "      <td>0</td>\n",
              "    </tr>\n",
              "    <tr>\n",
              "      <th>2</th>\n",
              "      <td>3</td>\n",
              "      <td>0.02729</td>\n",
              "      <td>0.0</td>\n",
              "      <td>7.07</td>\n",
              "      <td>0</td>\n",
              "      <td>0.469</td>\n",
              "      <td>7.185</td>\n",
              "      <td>61.1</td>\n",
              "      <td>4.9671</td>\n",
              "      <td>2</td>\n",
              "      <td>242</td>\n",
              "      <td>17.8</td>\n",
              "      <td>392.83</td>\n",
              "      <td>4.03</td>\n",
              "      <td>34.7</td>\n",
              "      <td>0</td>\n",
              "    </tr>\n",
              "    <tr>\n",
              "      <th>3</th>\n",
              "      <td>4</td>\n",
              "      <td>0.03237</td>\n",
              "      <td>0.0</td>\n",
              "      <td>2.18</td>\n",
              "      <td>0</td>\n",
              "      <td>0.458</td>\n",
              "      <td>6.998</td>\n",
              "      <td>45.8</td>\n",
              "      <td>6.0622</td>\n",
              "      <td>3</td>\n",
              "      <td>222</td>\n",
              "      <td>18.7</td>\n",
              "      <td>394.63</td>\n",
              "      <td>2.94</td>\n",
              "      <td>33.4</td>\n",
              "      <td>0</td>\n",
              "    </tr>\n",
              "    <tr>\n",
              "      <th>4</th>\n",
              "      <td>5</td>\n",
              "      <td>0.06905</td>\n",
              "      <td>0.0</td>\n",
              "      <td>2.18</td>\n",
              "      <td>0</td>\n",
              "      <td>0.458</td>\n",
              "      <td>7.147</td>\n",
              "      <td>54.2</td>\n",
              "      <td>6.0622</td>\n",
              "      <td>3</td>\n",
              "      <td>222</td>\n",
              "      <td>18.7</td>\n",
              "      <td>396.90</td>\n",
              "      <td>5.33</td>\n",
              "      <td>36.2</td>\n",
              "      <td>0</td>\n",
              "    </tr>\n",
              "  </tbody>\n",
              "</table>\n",
              "</div>"
            ],
            "text/plain": [
              "   Unnamed: 0     crim    zn  indus  chas  ...  ptratio   black  lstat  medv  crim01\n",
              "0           1  0.00632  18.0   2.31     0  ...     15.3  396.90   4.98  24.0       0\n",
              "1           2  0.02731   0.0   7.07     0  ...     17.8  396.90   9.14  21.6       0\n",
              "2           3  0.02729   0.0   7.07     0  ...     17.8  392.83   4.03  34.7       0\n",
              "3           4  0.03237   0.0   2.18     0  ...     18.7  394.63   2.94  33.4       0\n",
              "4           5  0.06905   0.0   2.18     0  ...     18.7  396.90   5.33  36.2       0\n",
              "\n",
              "[5 rows x 16 columns]"
            ]
          },
          "metadata": {
            "tags": []
          },
          "execution_count": 119
        }
      ]
    },
    {
      "cell_type": "code",
      "metadata": {
        "id": "VfXeqQkODWTl"
      },
      "source": [
        "X = boston.iloc[:,2:-1].values\n",
        "y = boston['crim01'].values\n",
        "X_train, X_test, y_train, y_test = train_test_split(X, y, random_state=1)"
      ],
      "execution_count": 122,
      "outputs": []
    },
    {
      "cell_type": "code",
      "metadata": {
        "colab": {
          "base_uri": "https://localhost:8080/"
        },
        "id": "EbbPHm82D8ty",
        "outputId": "3cb1bbfa-66aa-487b-d3d1-e95be9222f87"
      },
      "source": [
        "qda = QuadraticDiscriminantAnalysis()\n",
        "qda.fit(X_train, y_train)\n",
        "accuracy_score(y_test, qda.predict(X_test))"
      ],
      "execution_count": 126,
      "outputs": [
        {
          "output_type": "execute_result",
          "data": {
            "text/plain": [
              "0.905511811023622"
            ]
          },
          "metadata": {
            "tags": []
          },
          "execution_count": 126
        }
      ]
    },
    {
      "cell_type": "code",
      "metadata": {
        "colab": {
          "base_uri": "https://localhost:8080/"
        },
        "id": "e6yybcpqEObE",
        "outputId": "beab7f75-a90f-4980-9146-e39ee09f9441"
      },
      "source": [
        "knn = KNeighborsClassifier(n_neighbors=10)\n",
        "knn.fit(X_train, y_train)\n",
        "accuracy_score(y_test, knn.predict(X_test))"
      ],
      "execution_count": 127,
      "outputs": [
        {
          "output_type": "execute_result",
          "data": {
            "text/plain": [
              "0.8740157480314961"
            ]
          },
          "metadata": {
            "tags": []
          },
          "execution_count": 127
        }
      ]
    },
    {
      "cell_type": "code",
      "metadata": {
        "colab": {
          "base_uri": "https://localhost:8080/"
        },
        "id": "W2v9EvA3EY0R",
        "outputId": "4b80543a-8db8-4336-a1f5-106f2e14fecb"
      },
      "source": [
        "lr = LogisticRegression()\n",
        "lr.fit(X_train, y_train)\n",
        "accuracy_score(y_test, lr.predict(X_test))"
      ],
      "execution_count": 128,
      "outputs": [
        {
          "output_type": "stream",
          "text": [
            "/usr/local/lib/python3.7/dist-packages/sklearn/linear_model/_logistic.py:940: ConvergenceWarning: lbfgs failed to converge (status=1):\n",
            "STOP: TOTAL NO. of ITERATIONS REACHED LIMIT.\n",
            "\n",
            "Increase the number of iterations (max_iter) or scale the data as shown in:\n",
            "    https://scikit-learn.org/stable/modules/preprocessing.html\n",
            "Please also refer to the documentation for alternative solver options:\n",
            "    https://scikit-learn.org/stable/modules/linear_model.html#logistic-regression\n",
            "  extra_warning_msg=_LOGISTIC_SOLVER_CONVERGENCE_MSG)\n"
          ],
          "name": "stderr"
        },
        {
          "output_type": "execute_result",
          "data": {
            "text/plain": [
              "0.8503937007874016"
            ]
          },
          "metadata": {
            "tags": []
          },
          "execution_count": 128
        }
      ]
    }
  ]
}